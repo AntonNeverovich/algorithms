{
 "cells": [
  {
   "cell_type": "markdown",
   "metadata": {},
   "source": [
    "# CODE WARS 3"
   ]
  },
  {
   "cell_type": "code",
   "execution_count": 41,
   "metadata": {
    "pycharm": {
     "is_executing": false
    }
   },
   "outputs": [],
   "source": [
    "def assert_equals(a, b):\n",
    "    print(f'Test = {a == b}')"
   ]
  },
  {
   "cell_type": "markdown",
   "metadata": {},
   "source": [
    "### Prime Streaming (PG-13)\n",
    "\n",
    "Create an endless stream of prime numbers - a bit like `IntStream.of(2, 3, 5, 7, 11, 13, 17)`, but infinite.  \n",
    "The stream must be able to produce a million primes in a few seconds."
   ]
  },
  {
   "cell_type": "code",
   "execution_count": 39,
   "metadata": {},
   "outputs": [],
   "source": [
    "class Primes:\n",
    "    \n",
    "    @staticmethod\n",
    "    def stream():\n",
    "        def primes(n):\n",
    "            sieve = [True] * n\n",
    "            for i in range(3, int(n ** 0.5) + 1, 2):\n",
    "                if sieve[i]:\n",
    "                    sieve[i * i::2 * i] = [False] * ((n - i * i - 1) // (2 * i) + 1)\n",
    "            return iter([2] + [i for i in range(3, n, 2) if sieve[i]])\n",
    "        \n",
    "        pr = primes(5000000)\n",
    "        return pr\n",
    "    \n",
    "    "
   ]
  },
  {
   "cell_type": "code",
   "execution_count": 42,
   "metadata": {},
   "outputs": [
    {
     "name": "stdout",
     "output_type": "stream",
     "text": [
      "Test = True\n",
      "Test = True\n",
      "Test = True\n",
      "Test = True\n",
      "Test = True\n",
      "Test = True\n",
      "Test = True\n",
      "Test = True\n",
      "Test = True\n",
      "Test = True\n",
      "Test = True\n",
      "Test = True\n",
      "Test = True\n",
      "Test = True\n",
      "Test = True\n",
      "Test = True\n",
      "Test = True\n",
      "Test = True\n",
      "Test = True\n",
      "Test = True\n",
      "Test = True\n",
      "Test = True\n",
      "Test = True\n",
      "Test = True\n",
      "Test = True\n",
      "Test = True\n",
      "Test = True\n",
      "Test = True\n",
      "Test = True\n",
      "Test = True\n",
      "Test = True\n",
      "Test = True\n",
      "Test = True\n",
      "Test = True\n",
      "Test = True\n",
      "Test = True\n",
      "Test = True\n",
      "Test = True\n",
      "Test = True\n",
      "Test = True\n"
     ]
    }
   ],
   "source": [
    "def verify(from_n, *vals):\n",
    "    stream = Primes.stream()\n",
    "    for _ in range(from_n): \n",
    "        next(stream)\n",
    "    for v in vals: \n",
    "        assert_equals(next(stream), v)\n",
    "\n",
    "verify(0, 2,3,5,7,11,13,17,19,23,29)\n",
    "verify(10, 31,37,41,43,47,53,59,61,67,71)\n",
    "verify(100, 547,557,563,569,571,577,587,593,599,601)\n",
    "verify(1000, 7927,7933,7937,7949,7951,7963,7993,8009,8011,8017)"
   ]
  },
  {
   "cell_type": "markdown",
   "metadata": {},
   "source": [
    "### Recursion count7\n",
    "\n",
    "Given a non-negative int `n`, return the count of the occurrences of `7` as a digit, so for example `717 yields 2`. *(no loops)*.  \n",
    "\n",
    "Note that mod `%` by 10 yields the rightmost digit `126 % 10 is 6`, while divide `/` by 10 removes the rightmost digit `126 / 10 is 12`."
   ]
  },
  {
   "cell_type": "code",
   "execution_count": 2,
   "metadata": {
    "pycharm": {
     "is_executing": false
    }
   },
   "outputs": [],
   "source": [
    "def count7(n: int):\n",
    "    if n == 0:\n",
    "        return 0\n",
    "    elif n < 10:\n",
    "        if n != 0 and n % 7 == 0:\n",
    "            return 1\n",
    "        else:\n",
    "            return 0\n",
    "    else:\n",
    "        if n % 10 != 0 and n % 10 % 7 == 0:\n",
    "            n //= 10\n",
    "            return 1 + count7(n)\n",
    "        else:\n",
    "            n //= 10\n",
    "            return 0 + count7(n)"
   ]
  },
  {
   "cell_type": "code",
   "execution_count": null,
   "metadata": {
    "pycharm": {
     "is_executing": true
    }
   },
   "outputs": [
    {
     "name": "stdout",
     "output_type": "stream",
     "text": [
      "Test = True\n",
      "Test = True\n",
      "Test = True\n",
      "Test = True\n",
      "Test = True\n",
      "Test = True\n"
     ]
    }
   ],
   "source": [
    "assert_equals(count7(717), 2)\n",
    "assert_equals(count7(7), 1)\n",
    "assert_equals(count7(123), 0)\n",
    "assert_equals(count7(70007), 2);\n",
    "assert_equals(count7(77777), 5)\n",
    "assert_equals(count7(0), 0)"
   ]
  },
  {
   "cell_type": "markdown",
   "metadata": {},
   "source": [
    "### Permutations\n",
    "\n",
    "In this kata you have to create all permutations of an input string and remove duplicates, if present. This means, you have to shuffle all letters from the input in all possible orders.\n",
    "\n",
    "Examples:\n",
    "\n",
    "`permutations('a'); # ['a']`  \n",
    "`permutations('ab'); # ['ab', 'ba']`  \n",
    "`permutations('aabb'); # ['aabb', 'abab', 'abba', 'baab', 'baba', 'bbaa']`  \n",
    "\n",
    "The order of the permutations doesn't matter."
   ]
  },
  {
   "cell_type": "code",
   "execution_count": null,
   "metadata": {
    "pycharm": {
     "is_executing": true
    }
   },
   "outputs": [],
   "source": [
    "def permutations(string):\n",
    "    res = []\n",
    "    if len(string) < 2:\n",
    "        return list(string)\n",
    "    elif len(string) == 2:\n",
    "        return [string, string[::-1]]\n",
    "    else:\n",
    "        l = len(string)\n",
    "        s = []\n",
    "        for i in range(l):\n",
    "            s = []\n",
    "            s.append(i)\n",
    "            for j in range(l, i, -1):\n",
    "                s.append()\n",
    "                \n",
    "        res.append(s.''.join(s))\n",
    "        return [s for s in string]\n",
    "\n",
    "    \n",
    "# def nextSet(s1: str, s2: str):\n",
    "    \n",
    "\n",
    "\n",
    "    \n",
    "def swap(s1: str, s2: str):\n",
    "    return s2, s1"
   ]
  },
  {
   "cell_type": "code",
   "execution_count": null,
   "metadata": {
    "pycharm": {
     "is_executing": true
    }
   },
   "outputs": [],
   "source": [
    "strim = 'abcdefg'\n",
    "s1 = strim[-2]\n",
    "s2 = strim[-1]\n",
    "s1, s2 = s2, s1\n",
    "print(f'start:\\t{strim}')\n",
    "strim[0: -8]\n",
    "# strim[-9]\n",
    "try:\n",
    "    strim[-10]\n",
    "except:\n",
    "    ''\n",
    "# strim[1:]\n",
    "# strim = strim[0: -8] + strim[-9] + strim[-10] + strim[1:]\n",
    "\n",
    "# for i in range(len(strim)):\n",
    "#     strim = strim[0: -i - 2] + strim[-i - 1] + strim[-i - 2] + strim[len(strim) - i:]\n",
    "#     print(f'{i}:\\t{strim}')\n",
    "    "
   ]
  },
  {
   "cell_type": "code",
   "execution_count": null,
   "metadata": {
    "pycharm": {
     "is_executing": true
    }
   },
   "outputs": [],
   "source": [
    "a = '3'\n",
    "b = '4'\n",
    "print(f'a={a}\\tb={b}')\n",
    "a, b = swap(a, b)\n",
    "print(f'a={a}\\tb={b}')"
   ]
  },
  {
   "cell_type": "code",
   "execution_count": null,
   "metadata": {
    "pycharm": {
     "is_executing": true
    }
   },
   "outputs": [],
   "source": [
    "permutations('ab')"
   ]
  },
  {
   "cell_type": "code",
   "execution_count": null,
   "metadata": {
    "pycharm": {
     "is_executing": true
    }
   },
   "outputs": [],
   "source": [
    "st = 'aabb'\n",
    "[s for s in st]"
   ]
  },
  {
   "cell_type": "code",
   "execution_count": null,
   "metadata": {
    "pycharm": {
     "is_executing": true
    }
   },
   "outputs": [],
   "source": [
    "assert_equals(sorted(permutations('a')), ['a']);\n",
    "assert_equals(sorted(permutations('ab')), ['ab', 'ba'])\n",
    "assert_equals(sorted(permutations('aabb')), ['aabb', 'abab', 'abba', 'baab', 'baba', 'bbaa'])"
   ]
  },
  {
   "cell_type": "markdown",
   "metadata": {},
   "source": [
    "### Simplifying multilinear polynomials"
   ]
  },
  {
   "cell_type": "markdown",
   "metadata": {},
   "source": [
    "When we attended middle school were asked to simplify mathematical expressions like \"3x-yx+2xy-x\" (or usually bigger), and that was easy-peasy (\"2x+xy\"). But tell that to your pc and we'll see! \n",
    "\n",
    "Write a function: `simplify`, that takes a string in input, representing a *multilinear non-constant polynomial in integers coefficients* (like `\"3x-zx+2xy-x\"`), and returns another string as output where the same expression has been simplified in the following way ( `->` means application of `simplify`):\n",
    "\n",
    "* All possible sums and subtraction of equivalent monomials (\"xy==yx\") has been done, e.g.:  \n",
    "`\"cb+cba\" -> \"bc+abc\", \"2xy-yx\" -> \"xy\", \"-a+5ab+3a-c-2a\" -> \"-c+5ab\" `  \n",
    "\n",
    "\n",
    "* All monomials appears in order of increasing number of variables, e.g.:  \n",
    "`\"-abc+3a+2ac\" -> \"3a+2ac-abc\", \"xyz-xz\" -> \"-xz+xyz\" `  \n",
    "\n",
    "* If two monomials have the same number of variables, they appears in lexicographic order, e.g.:  \n",
    "`\"a+ca-ab\" -> \"a-ab+ac\", \"xzy+zby\" ->\"byz+xyz\" `  \n",
    "\n",
    "* There is no leading + sign if the first coefficient is positive, e.g.:  \n",
    "`\"-y+x\" -> \"x-y\", but no restrictions for -: \"y-x\" ->\"-x+y\"`  \n",
    "\n",
    "N.B. to keep it simplest, the string in input is restricted to represent only multilinear non-constant polynomials, so you won't find something like `-3+yx^2'`. Multilinear means in this context: of degree 1 on each variable.\n",
    "\n",
    "##### Warning:\n",
    "the string in input can contain arbitrary variables represented by lowercase characters in the english alphabet."
   ]
  },
  {
   "cell_type": "code",
   "execution_count": null,
   "metadata": {
    "pycharm": {
     "is_executing": true
    }
   },
   "outputs": [],
   "source": [
    "def simplify(poly):\n",
    "    pass"
   ]
  },
  {
   "cell_type": "code",
   "execution_count": null,
   "metadata": {
    "pycharm": {
     "is_executing": true
    }
   },
   "outputs": [],
   "source": [
    "def read_poly(poly: str):\n",
    "    signs = ('+', '-')\n",
    "    polynomial = []\n",
    "    start_index = 0\n",
    "    for i in range(len(poly)):\n",
    "        if poly[i] in signs:\n",
    "            polynomial.append(poly[start_index : i])\n",
    "            start_index = i\n",
    "    polynomial.append(poly[start_index : ])\n",
    "    if '' in polynomial:\n",
    "        polynomial.remove('')\n",
    "    return polynomial\n",
    "\n",
    "\n",
    "def write_poly(polynomial: []):\n",
    "    signs = ('+', '-')\n",
    "    if len(polynomial) > 0 and polynomial[0][0] in signs:\n",
    "        return ''.join(polynomial)[1:]\n",
    "    else:\n",
    "        return ''.join(polynomial)\n",
    "    \n",
    "\n",
    "def reduction_by_equivalence(polynomial: []):\n",
    "    res = []\n",
    "    for p in polynomial:\n",
    "        if '+' in p:\n",
    "            res.append('+' + ''.join(sorted(p[1:])))\n",
    "        elif '-' in p:\n",
    "            res.append('-' + ''.join(sorted(p[1:])))\n",
    "        else:\n",
    "             res.append(''.join(sorted(p)))\n",
    "    return res\n",
    "\n",
    "\n",
    "def no_leading_plus(polynomial: []):\n",
    "    res = []\n",
    "    if '-' in polynomial[0]:\n",
    "        for i in range(len(polynomial)):\n",
    "            if '-' in polynomial[i]:\n",
    "                res.append(polynomial[i])\n",
    "            else:\n",
    "                res.insert(0, polynomial[i])\n",
    "        if '+' in res[0]:\n",
    "            res[0] = res[0][1:]\n",
    "    if '-' not in polynomial[0]:\n",
    "        for i in range(len(polynomial)):\n",
    "            if '+' in polynomial[i]:\n",
    "                res.append(polynomial[i])\n",
    "            else:\n",
    "                res.insert(0, polynomial[i])   \n",
    "    return res\n",
    "        \n",
    "        "
   ]
  },
  {
   "cell_type": "code",
   "execution_count": null,
   "metadata": {
    "pycharm": {
     "is_executing": true
    }
   },
   "outputs": [],
   "source": [
    "print('Test reduction by equivalence')\n",
    "assert_equals(simplify(\"dc+dcba\"), \"cd+abcd\")\n",
    "assert_equals(simplify(\"2xy-yx\"),\"xy\")\n",
    "assert_equals(simplify(\"-a+5ab+3a-c-2a\"),\"-c+5ab\")\n",
    "\n",
    "print('\\nTest monomial length ordering')\n",
    "assert_equals(simplify(\"-abc+3a+2ac\"),\"3a+2ac-abc\")\n",
    "assert_equals(simplify(\"xyz-xz\"),\"-xz+xyz\")\n",
    "\n",
    "print('\\nTest lexicographic ordering')\n",
    "assert_equals(simplify(\"a+ca-ab\"),\"a-ab+ac\")\n",
    "assert_equals(simplify(\"xzy+zby\"),\"byz+xyz\")\n",
    "\n",
    "print('\\nTest no leading +')\n",
    "assert_equals(simplify(\"-y+x\"),\"x-y\")\n",
    "assert_equals(simplify(\"y-x\"),\"-x+y\")"
   ]
  },
  {
   "cell_type": "markdown",
   "metadata": {},
   "source": [
    "### Phone Directory"
   ]
  },
  {
   "cell_type": "markdown",
   "metadata": {},
   "source": [
    "John keeps a backup of his old personal phone book as a text file. On each line of the file he can find the phone number (formated as `+X-abc-def-ghij` where `X` stands for one or two digits), the corresponding name between `<` and `>` and the address.\n",
    "\n",
    "Unfortunately everything is mixed, things are not always in the same order; parts of lines are cluttered with non-alpha-numeric characters (except inside phone number and name).\n",
    "\n",
    "Examples of John's phone book lines:  \n",
    "  \n",
    "`\"/+1-541-754-3010 156 Alphand_St. <J Steeve>\\n\"`  \n",
    "`\" 133, Green, Rd. <E Kustur> NY-56423 ;+1-541-914-3010!\\n\"`  \n",
    "`\"<Anastasia> +48-421-674-8974 Via Quirinal Roma\\n\"`  \n",
    "\n",
    "Could you help John with a program that, given the lines of his phone book and a phone number `num` returns a string for this number :  \n",
    "`\"Phone => num, Name => name, Address => adress\"`\n",
    "\n",
    "##### Examples:  \n",
    "  \n",
    "`s = \"/+1-541-754-3010 156 Alphand_St. <J Steeve>\\n 133, Green, Rd. <E Kustur> NY-56423 ;+1-541-914-3010!\\n\"`  \n",
    "`phone(s, \"1-541-754-3010\") should return \"Phone => 1-541-754-3010, Name => J Steeve, Address => 156 Alphand St.\"`  \n",
    "  \n",
    "It can happen that there are many people for a phone number `num`, then\n",
    "return : `\"Error => Too many people: num\"`  \n",
    "\n",
    "or it can happen that the number num is not in the phone book, in that case\n",
    "return: `\"Error => Not found: num\"`\n",
    "\n",
    "You can see other examples in the test cases.\n",
    "\n",
    "##### Note\n",
    "\n",
    "Codewars stdout doesn't print part of a string when between < and >"
   ]
  },
  {
   "cell_type": "code",
   "execution_count": null,
   "metadata": {
    "pycharm": {
     "is_executing": true
    }
   },
   "outputs": [],
   "source": [
    "def phone(strng, num):\n",
    "    contacts = [c for c in read_contacts(strng)]\n",
    "    result = [str(c) for c in contacts if c.phone == num]\n",
    "    if len(result) == 0:\n",
    "        return f'Error => Not found: {num}'\n",
    "    elif len(result) > 1:\n",
    "        return f'Error => Too many people: {num}'\n",
    "    return result[0]\n",
    "    "
   ]
  },
  {
   "cell_type": "code",
   "execution_count": null,
   "metadata": {
    "pycharm": {
     "is_executing": true
    }
   },
   "outputs": [],
   "source": [
    "def read_contacts(string: str):\n",
    "    strings = string.splitlines()\n",
    "    contacts = []\n",
    "    for s in strings:\n",
    "        contacts.append(Contact(\n",
    "                                phone=find_phone_number(s),\n",
    "                                name=find_name(s),\n",
    "                                address=find_address(s)\n",
    "                                ))\n",
    "    return contacts\n",
    "\n",
    "\n",
    "def find_phone_number(line: str):\n",
    "    prefix = line[line.index('+') + 1: line.index('+') + line[line.index('+'):].index('-')]\n",
    "    return line[line.index('+') + 1: line.index('+') + 14 + len(prefix)]\n",
    "\n",
    "\n",
    "def find_name(line: str):\n",
    "    return line[line.index('<') + 1: line.index('>')]\n",
    "\n",
    "\n",
    "def find_address(line: str):\n",
    "    adr = ''\n",
    "    string = line.replace(find_phone_number(line), '').replace(find_name(line), '').replace('_', ' ')\n",
    "    for s in string:\n",
    "        boo = s.isalpha() or s.isdigit() or s == ' ' or s == '.' or s == '-'\n",
    "        if boo:\n",
    "            adr += s\n",
    "    return ' '.join(adr.strip().split())\n",
    "\n",
    "\n",
    "class Contact:\n",
    "    phone: str\n",
    "    name: str\n",
    "    address: str\n",
    "        \n",
    "    def __init__(self, phone, name, address):\n",
    "        self.phone = phone\n",
    "        self.name = name\n",
    "        self.address = address\n",
    "        \n",
    "    def __str__(self):\n",
    "        return f'Phone => {self.phone}, Name => {self.name}, Address => {self.address}'"
   ]
  },
  {
   "cell_type": "code",
   "execution_count": null,
   "metadata": {
    "pycharm": {
     "is_executing": true
    }
   },
   "outputs": [],
   "source": [
    "dr = (\"/+1-541-754-3010 156 Alphand_St. <J Steeve>\\n 133, Green, Rd. <E Kustur> NY-56423 ;+1-541-914-3010;\\n\"\n",
    "\"+1-541-984-3012 <P Reed> /PO Box 530; Pollocksville, NC-28573\\n :+1-321-512-2222 <Paul Dive> Sequoia Alley PQ-67209\\n\"\n",
    "\"+1-741-984-3090 <Peter Reedgrave> _Chicago\\n :+1-921-333-2222 <Anna Stevens> Haramburu_Street AA-67209\\n\"\n",
    "\"+1-111-544-8973 <Peter Pan> LA\\n +1-921-512-2222 <Wilfrid Stevens> Wild Street AA-67209\\n\"\n",
    "\"<Peter Gone> LA ?+1-121-544-8974 \\n <R Steell> Quora Street AB-47209 +1-481-512-2222!\\n\"\n",
    "\"<Arthur Clarke> San Antonio $+1-121-504-8974 TT-45120\\n <Ray Chandler> Teliman Pk. !+1-681-512-2222! AB-47209,\\n\"\n",
    "\"<Sophia Loren> +1-421-674-8974 Bern TP-46017\\n <Peter O'Brien> High Street +1-908-512-2222; CC-47209\\n\"\n",
    "\"<Anastasia> +48-421-674-8974 Via Quirinal Roma\\n <P Salinger> Main Street, +1-098-512-2222, Denver\\n\"\n",
    "\"<C Powel> *+19-421-674-8974 Chateau des Fosses Strasbourg F-68000\\n <Bernard Deltheil> +1-498-512-2222; Mount Av.  Eldorado\\n\"\n",
    "\"+1-099-500-8000 <Peter Crush> Labrador Bd.\\n +1-931-512-4855 <William Saurin> Bison Street CQ-23071\\n\"\n",
    "\"<P Salinge> Main Street, +1-098-512-2222, Denve\\n\")\n",
    "\n",
    "assert_equals(phone(dr, \"48-421-674-8974\"), \"Phone => 48-421-674-8974, Name => Anastasia, Address => Via Quirinal Roma\")\n",
    "assert_equals(phone(dr, \"1-921-512-2222\"), \"Phone => 1-921-512-2222, Name => Wilfrid Stevens, Address => Wild Street AA-67209\")\n",
    "assert_equals(phone(dr, \"1-908-512-2222\"), \"Phone => 1-908-512-2222, Name => Peter O'Brien, Address => High Street CC-47209\")\n",
    "assert_equals(phone(dr, \"1-541-754-3010\"), \"Phone => 1-541-754-3010, Name => J Steeve, Address => 156 Alphand St.\")\n",
    "assert_equals(phone(dr, \"1-121-504-8974\"), \"Phone => 1-121-504-8974, Name => Arthur Clarke, Address => San Antonio TT-45120\")\n",
    "assert_equals(phone(dr, \"1-498-512-2222\"), \"Phone => 1-498-512-2222, Name => Bernard Deltheil, Address => Mount Av. Eldorado\")\n",
    "assert_equals(phone(dr, \"1-098-512-2222\"), \"Error => Too many people: 1-098-512-2222\")\n",
    "assert_equals(phone(dr, \"5-555-555-5555\"), \"Error => Not found: 5-555-555-5555\")"
   ]
  },
  {
   "cell_type": "markdown",
   "metadata": {},
   "source": [
    "### Would you believe... Talk like Siegfried "
   ]
  },
  {
   "cell_type": "markdown",
   "metadata": {},
   "source": [
    "***Do you ever wish you could talk like Siegfried of KAOS ?***\n",
    "***YES, of course you do!***\n",
    "\n",
    "##### Task\n",
    "Write the function siegfried to replace the letters of a given sentence.\n",
    "\n",
    "Apply the rules using the course notes below. Each week you will learn some more rules.\n",
    "\n",
    "Und by ze fifz vek yu vil be speakink viz un aksent lik Siegfried viz no trubl at al!\n",
    "\n",
    "##### Lessons\n",
    "###### Week 1  \n",
    "`ci` -> `si`  \n",
    "`ce` -> `se`  \n",
    "`c` -> `k` (except `ch` leave alone)  \n",
    "\n",
    "##### Week 2  \n",
    "`ph` -> `f`\n",
    "\n",
    "##### Week 3\n",
    "remove trailing `e` (except for all 2 and 3 letter words)\n",
    "replace double letters with single letters (e.g. `tt` -> `t`)\n",
    "\n",
    "##### Week 4\n",
    "`th` -> `z`  \n",
    "`wr` -> `r`  \n",
    "`wh` -> `v`  \n",
    "`w` -> `v`  \n",
    "\n",
    "##### Week 5\n",
    "`ou` -> `u`  \n",
    "`an` -> `un`\n",
    "`ing` -> `ink` (but only when ending words)\n",
    "`sm` -> `schm` (but only when beginning words)\n",
    "\n",
    "##### Notes\n",
    "* You must retain the case of the original sentence\n",
    "* Apply rules strictly in the order given above\n",
    "* Rules are cummulative. So for week 3 first apply week 1 rules, then week 2 rules, then week 3 rules"
   ]
  },
  {
   "cell_type": "code",
   "execution_count": null,
   "metadata": {
    "pycharm": {
     "is_executing": true
    }
   },
   "outputs": [],
   "source": [
    "def siegfried(week, txt):\n",
    "    # Your code here!\n",
    "    pass\n",
    "\n",
    "\n",
    "def week1(txt:str):\n",
    "    if 'ci' in txt:\n",
    "        txt = txt.replace('ci', 'si')\n",
    "    if 'ce' in txt:\n",
    "        txt = txt.replace('ce', 'se')\n",
    "    if 'c' in txt:\n",
    "        txt = txt.replace('c', 'k')\n",
    "    return txt"
   ]
  },
  {
   "cell_type": "code",
   "execution_count": null,
   "metadata": {
    "pycharm": {
     "is_executing": true
    }
   },
   "outputs": [],
   "source": [
    "txt = '''This is KAOS!! We don't play with Code-Wars here!!'''\n",
    "week1(txt)"
   ]
  },
  {
   "cell_type": "code",
   "execution_count": null,
   "metadata": {
    "pycharm": {
     "is_executing": true
    }
   },
   "outputs": [],
   "source": [
    "english = ''.join(\"\"\"\n",
    "This is KAOS!! We don't play with Code-Wars here!!\n",
    " So there will be trouble for you this time Mr Maxwell Smart!\n",
    " We have received all the photographic evidence we need so choose carefully what you say next!\n",
    " I hope you will co-operate with KAOS and do exactly what we want Mr Smart otherwise I won't be happy with you!\n",
    " In fact, if you misbehave that would make me very unhappy indeed...\n",
    " And you certainly would not want to make me unnecesarily cross would you Mr Maxwell Smart?\n",
    "\"\"\".split('\\n'))\n",
    "\n",
    "afterWeek1 = ''.join(\"\"\"\n",
    "This is KAOS!! We don't play with Kode-Wars here!!\n",
    " So there will be trouble for you this time Mr Maxwell Smart!\n",
    " We have reseived all the photographik evidense we need so choose karefully what you say next!\n",
    " I hope you will ko-operate with KAOS and do exaktly what we want Mr Smart otherwise I won't be happy with you!\n",
    " In fakt, if you misbehave that would make me very unhappy indeed...\n",
    " And you sertainly would not want to make me unnesesarily kross would you Mr Maxwell Smart?\n",
    "\"\"\".split('\\n'))\n",
    "\n",
    "afterWeek2 = ''.join(\"\"\"\n",
    "This is KAOS!! We don't play with Kode-Wars here!!\n",
    " So there will be trouble for you this time Mr Maxwell Smart!\n",
    " We have reseived all the fotografik evidense we need so choose karefully what you say next!\n",
    " I hope you will ko-operate with KAOS and do exaktly what we want Mr Smart otherwise I won't be happy with you!\n",
    " In fakt, if you misbehave that would make me very unhappy indeed...\n",
    " And you sertainly would not want to make me unnesesarily kross would you Mr Maxwell Smart?\n",
    "\"\"\".split('\\n'))\n",
    "\n",
    "afterWeek3 = ''.join(\"\"\"\n",
    "This is KAOS!! We don't play with Kod-Wars her!!\n",
    " So ther wil be troubl for you this tim Mr Maxwel Smart!\n",
    " We hav reseived al the fotografik evidens we ned so chos karefuly what you say next!\n",
    " I hop you wil ko-operat with KAOS and do exaktly what we want Mr Smart otherwis I won't be hapy with you!\n",
    " In fakt, if you misbehav that would mak me very unhapy inded...\n",
    " And you sertainly would not want to mak me unesesarily kros would you Mr Maxwel Smart?\n",
    "\"\"\".split('\\n'))\n",
    "\n",
    "afterWeek4 = ''.join(\"\"\"\n",
    "Zis is KAOS!! Ve don't play viz Kod-Vars her!!\n",
    " So zer vil be troubl for you zis tim Mr Maxvel Smart!\n",
    " Ve hav reseived al ze fotografik evidens ve ned so chos karefuly vat you say next!\n",
    " I hop you vil ko-operat viz KAOS and do exaktly vat ve vant Mr Smart ozervis I von't be hapy viz you!\n",
    " In fakt, if you misbehav zat vould mak me very unhapy inded...\n",
    " And you sertainly vould not vant to mak me unesesarily kros vould you Mr Maxvel Smart?\n",
    "\"\"\".split('\\n'))\n",
    "\n",
    "afterWeek5 = ''.join(\"\"\"\n",
    "Zis is KAOS!! Ve don't play viz Kod-Vars her!!\n",
    " So zer vil be trubl for yu zis tim Mr Maxvel Schmart!\n",
    " Ve hav reseived al ze fotografik evidens ve ned so chos karefuly vat yu say next!\n",
    " I hop yu vil ko-operat viz KAOS und do exaktly vat ve vunt Mr Schmart ozervis I von't be hapy viz yu!\n",
    " In fakt, if yu misbehav zat vuld mak me very unhapy inded...\n",
    " Und yu sertainly vuld not vunt to mak me unesesarily kros vuld yu Mr Maxvel Schmart?\n",
    "\"\"\".split('\\n'))\n",
    "\n",
    "assert_equals(siegfried(1, english), afterWeek1)\n",
    "assert_equals(siegfried(2, english), afterWeek2)\n",
    "assert_equals(siegfried(3, english), afterWeek3)\n",
    "assert_equals(siegfried(4, english), afterWeek4)\n",
    "assert_equals(siegfried(5, english), afterWeek5)"
   ]
  }
 ],
 "metadata": {
  "kernelspec": {
   "display_name": "Python 3",
   "language": "python",
   "name": "python3"
  },
  "language_info": {
   "codemirror_mode": {
    "name": "ipython",
    "version": 3
   },
   "file_extension": ".py",
   "mimetype": "text/x-python",
   "name": "python",
   "nbconvert_exporter": "python",
   "pygments_lexer": "ipython3",
   "version": "3.7.4"
  }
 },
 "nbformat": 4,
 "nbformat_minor": 2
}
