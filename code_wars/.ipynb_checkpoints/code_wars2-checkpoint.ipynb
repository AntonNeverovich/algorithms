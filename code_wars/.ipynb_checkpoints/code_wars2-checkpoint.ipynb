{
 "cells": [
  {
   "cell_type": "markdown",
   "metadata": {},
   "source": [
    "# CODE WARS 2"
   ]
  },
  {
   "cell_type": "code",
   "execution_count": 1,
   "metadata": {},
   "outputs": [],
   "source": [
    "def assert_equals(a, b):\n",
    "    print(f'Test = {a == b}')"
   ]
  },
  {
   "cell_type": "markdown",
   "metadata": {},
   "source": [
    "### Product of consecutive Fib numbers  \n",
    "\n",
    "The Fibonacci numbers are the numbers in the following integer sequence (Fn):\n",
    "\n",
    "`0, 1, 1, 2, 3, 5, 8, 13, 21, 34, 55, 89, 144, 233, ...`  \n",
    "\n",
    "such as\n",
    "\n",
    "`F(n) = F(n-1) + F(n-2) with F(0) = 0 and F(1) = 1. `  \n",
    "\n",
    "Given a number, say prod (for product), we search two Fibonacci numbers F(n) and F(n+1) verifying\n",
    "\n",
    "`F(n) * F(n+1) = prod.`  \n",
    "\n",
    "Your function productFib takes an integer (prod) and returns an array:\n",
    "\n",
    "`[F(n), F(n+1), true] or {F(n), F(n+1), 1} or (F(n), F(n+1), True)`  \n",
    "depending on the language `if F(n) * F(n+1) = prod`  \n",
    "\n",
    "If you don't find two consecutive `F(m)` verifying `F(m) * F(m+1) = prod` you will return\n",
    "\n",
    "`[F(m), F(m+1), false] or {F(n), F(n+1), 0} or (F(n), F(n+1), False)`  \n",
    "`F(m)` being the smallest one such as `F(m) * F(m+1) > prod`\n",
    "\n",
    "##### Examples\n",
    "`productFib(714) # should return [21, 34, true], `  \n",
    "                `# since F(8) = 21, F(9) = 34 and 714 = 21 * 34`  \n",
    "\n",
    "`productFib(800) # should return [34, 55, false],`   \n",
    "                `# since F(8) = 21, F(9) = 34, F(10) = 55 and 21 * 34 < 800 < 34 * 55`  \n",
    "                \n",
    "##### Notes\n",
    "Not useful here but we can tell how to choose the number n up to which to go: we can use the \"golden ratio\" phi which is `(1 + sqrt(5))/2` knowing that `F(n)` is asymptotic to: `phi^n / sqrt(5)`. That gives a possible upper bound to `n`.\n",
    "\n",
    "You can see examples in \"Example test\".\n",
    "\n",
    "References\n",
    "http://en.wikipedia.org/wiki/Fibonacci_number\n",
    "\n",
    "http://oeis.org/A000045"
   ]
  },
  {
   "cell_type": "code",
   "execution_count": null,
   "metadata": {},
   "outputs": [],
   "source": [
    "def productFib(prod):\n",
    "    # your code\n",
    "    return \n",
    "\n",
    "\n",
    "def divider(n: int):\n",
    "    pass\n",
    "\n",
    "\n",
    "def is_fibonacci(a: int, b: int):\n",
    "    pass"
   ]
  }
 ],
 "metadata": {
  "kernelspec": {
   "display_name": "Python 3",
   "language": "python",
   "name": "python3"
  },
  "language_info": {
   "codemirror_mode": {
    "name": "ipython",
    "version": 3
   },
   "file_extension": ".py",
   "mimetype": "text/x-python",
   "name": "python",
   "nbconvert_exporter": "python",
   "pygments_lexer": "ipython3",
   "version": "3.7.4"
  }
 },
 "nbformat": 4,
 "nbformat_minor": 2
}
