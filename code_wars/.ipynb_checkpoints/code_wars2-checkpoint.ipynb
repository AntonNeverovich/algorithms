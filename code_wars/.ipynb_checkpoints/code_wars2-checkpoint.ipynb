{
 "cells": [
  {
   "cell_type": "markdown",
   "metadata": {},
   "source": [
    "# CODE WARS 2"
   ]
  },
  {
   "cell_type": "code",
   "execution_count": 12,
   "metadata": {
    "pycharm": {
     "is_executing": true
    }
   },
   "outputs": [],
   "source": [
    "def assert_equals(a, b):\n",
    "    print(f'Test = {a == b}')"
   ]
  },
  {
   "cell_type": "markdown",
   "metadata": {},
   "source": [
    "### Some Egyptian fractions\n",
    "\n",
    "Given a rational number n\n",
    "\n",
    "`n >= 0, with denominator strictly positive`\n",
    "\n",
    "* as a string (example: \"2/3\" in Ruby, Python, Clojure, JS, CS, Go) or as two strings (example: \"2\" \"3\" in Haskell, Java, CSharp, C++, Swift)\n",
    "* or as a rational or decimal number (example: 3/4, 0.67 in R)  \n",
    "\n",
    "decompose this number as a sum of rationals with numerators equal to one and without repetitions (2/3 = 1/2 + 1/6 is correct but not 2/3 = 1/3 + 1/3, 1/3 is repeated).\n",
    "\n",
    "The algorithm must be \"greedy\", so at each stage the new rational obtained in the decomposition must have a denominator as small as possible. In this manner the sum of a few fractions in the decomposition gives a rather good approximation of the rational to decompose.\n",
    "\n",
    "2/3 = 1/3 + 1/3 doesn't fit because of the repetition but also because the first 1/3 has a denominator bigger than the one in 1/2 in the decomposition 2/3 = 1/2 + 1/6.\n",
    "\n",
    "##### Example:\n",
    "(You can see other examples in \"Sample Tests:\")\n",
    "\n",
    "`decompose(\"21/23\") or \"21\" \"23\" or 21/23 should return`  \n",
    "`[\"1/2\", \"1/3\", \"1/13\", \"1/359\", \"1/644046\"] in Ruby, Python, Clojure, JS, CS, Haskell, Go`  \n",
    "`\"[1/2, 1/3, 1/13, 1/359, 1/644046]\" in Java, CSharp, C++`  \n",
    "`\"1/2,1/3,1/13,1/359,1/644046\" in C, Swift, R`  \n",
    "\n",
    "##### Notes\n",
    "1) The decomposition of 21/23 as\n",
    "\n",
    "`21/23 = 1/2 + 1/3 + 1/13 + 1/598 + 1/897`  \n",
    "is exact but don't fulfill our requirement because 598 is bigger than 359. Same for  \n",
    "`21/23 = 1/2 + 1/3 + 1/23 + 1/46 + 1/69 (23 is bigger than 13)`  \n",
    "`or`  \n",
    "`21/23 = 1/2 + 1/3 + 1/15 + 1/110 + 1/253 (15 is bigger than 13).`  \n",
    "\n",
    "2) The rational given to decompose could be greater than one or equal to one, in which case the first \"fraction\" will be an integer (with an implicit denominator of 1).\n",
    "\n",
    "3) If the numerator parses to zero the function \"decompose\" returns [] (or \"\".\n",
    "\n",
    "4) The number could also be a decimal which can be expressed as a rational.\n",
    "\n",
    "examples:\n",
    "\n",
    "`0.6` in Ruby, Python, Clojure,JS, CS, Julia, Go\n",
    "\n",
    "`\"66\" \"100\"` in Haskell, Java, CSharp, C++, C, Swift, Scala, Kotlin\n",
    "\n",
    "`0.67` in R."
   ]
  },
  {
   "cell_type": "code",
   "execution_count": 96,
   "metadata": {},
   "outputs": [],
   "source": [
    "def decompose(n):\n",
    "    fr = Fraction(n).simplify()\n",
    "    if fr.q == 1:\n",
    "        if fr.p == 0:\n",
    "            return []\n",
    "        else:\n",
    "            return [str(fr.p)]\n",
    "    else:\n",
    "        res = []\n",
    "        while fr.p != 1:\n",
    "            res.append(egyptian_fractions(fr))\n",
    "            fr = fr.dif_(egyptian_fractions(fr)).simplify()\n",
    "        res.append(fr)\n",
    "        return [str(e) for e in res]\n",
    "\n",
    "    \n",
    "def egyptian_fractions(fr):\n",
    "    x = fr.p\n",
    "    y = fr.q\n",
    "    return Fraction(f'1/{int(y / x) + 1}')"
   ]
  },
  {
   "cell_type": "code",
   "execution_count": 99,
   "metadata": {},
   "outputs": [],
   "source": [
    "class Fraction:\n",
    "    fr: str\n",
    "    p: int\n",
    "    q: int\n",
    "\n",
    "    def __init__(self, fr: str):\n",
    "        self.fr = fr\n",
    "        self.p = int(self.read()[0])\n",
    "        self.q = int(self.read()[1])\n",
    "\n",
    "    def __str__(self):\n",
    "        return f'{self.p}/{self.q}'\n",
    "\n",
    "    def __repr__(self):\n",
    "        return f'{self.p}/{self.q}'\n",
    "\n",
    "    def read(self):\n",
    "        if self.fr == '':\n",
    "            return [0, 1]\n",
    "        elif '/' in self.fr:\n",
    "            res = self.fr.split('/')\n",
    "            if len(res) == 1:\n",
    "                return read(self.simplify())\n",
    "            if len(res) == 2:\n",
    "                return [int(x) for x in self.fr.split('/')]\n",
    "        elif '.' in self.fr:\n",
    "            y = 10 ** len(self.fr.split('.')[1])\n",
    "            x = self.fr.split('.')[1]\n",
    "            r = Fraction(f'{x}/{y}').simplify()\n",
    "            return [r.p, r.q]\n",
    "        else:\n",
    "            return [self.fr, 1]\n",
    "            \n",
    "    def simplify(self):\n",
    "        if len(self.same(self.factorization(self.p), self.factorization(self.q))) == 0:\n",
    "            cd = 1  # common divisor\n",
    "        else:\n",
    "            cd = self.mult(self.same(self.factorization(self.p), self.factorization(self.q)))  # common divisor\n",
    "        return Fraction(f'{self.p // cd}/{self.q // cd}')\n",
    "\n",
    "    def factorization(self, n: int):\n",
    "        dividers = []\n",
    "        while n > 1:\n",
    "            for i in self.primes(n + 1):\n",
    "                if n % i == 0:\n",
    "                    dividers.append(i)\n",
    "            n //= self.mult(dividers)\n",
    "        return sorted(dividers)\n",
    "\n",
    "    def primes(self, n):\n",
    "        sieve = [True] * n\n",
    "        for i in range(3, int(n ** 0.5) + 1, 2):\n",
    "            if sieve[i]:\n",
    "                sieve[i * i::2 * i] = [False] * ((n - i * i - 1) // (2 * i) + 1)\n",
    "        return [2] + [i for i in range(3, n, 2) if sieve[i]]\n",
    "\n",
    "    def mult(self, l: []):\n",
    "        m = 1\n",
    "        for i in l:\n",
    "            m *= i\n",
    "        return m\n",
    "\n",
    "    def same(self, list1: [], list2: []):\n",
    "        if len(list1) == len(list2) == 1:\n",
    "            min_l = list1 if list1[0] < list2[0] else list2\n",
    "            max_l = list1 if list1[0] > list2[0] else list2\n",
    "        elif len(list1) == len(list2):\n",
    "            min_l = list1\n",
    "            max_l = list2\n",
    "        else:\n",
    "            min_l = list1 if len(list1) < len(list2) else list2\n",
    "            max_l = list1 if len(list1) > len(list2) else list2\n",
    "        res = []\n",
    "        for i in min_l:\n",
    "            if i in max_l:\n",
    "                res.append(i)\n",
    "        return res\n",
    "\n",
    "    def sum_(self, fr):\n",
    "        if self.q == fr.q:\n",
    "            x = self.p + fr.p\n",
    "            y = self.q\n",
    "        else:\n",
    "            x = self.p * fr.q + fr.p * self.q\n",
    "            y = self.q * fr.q\n",
    "        return Fraction(f'{x}/{y}').simplify()\n",
    "    \n",
    "    def dif_(self, fr):\n",
    "        if self.q == fr.q:\n",
    "            x = self.p - fr.p\n",
    "            y = self.q\n",
    "        else:\n",
    "            x = self.p * fr.q - fr.p * self.q\n",
    "            y = self.q * fr.q\n",
    "        return Fraction(f'{x}/{y}').simplify()\n",
    "    \n",
    "    def mult_(self, fr):\n",
    "        x = self.p * fr.p\n",
    "        y = self.q * fr.q\n",
    "        return Fraction(f'{x}/{y}').simplify()\n",
    "    \n",
    "    def div_(self, fr):\n",
    "        x = self.p * fr.q\n",
    "        y = self.q * fr.p\n",
    "        return Fraction(f'{x}/{y}').simplify()\n",
    "    \n",
    "    def to_float(self):\n",
    "        return float(self.p) / float(self.q)"
   ]
  },
  {
   "cell_type": "code",
   "execution_count": 100,
   "metadata": {},
   "outputs": [
    {
     "name": "stdout",
     "output_type": "stream",
     "text": [
      "Test = True\n",
      "Test = True\n",
      "Test = True\n",
      "Test = False\n",
      "Test = True\n"
     ]
    }
   ],
   "source": [
    "assert_equals(decompose('0'), []) \n",
    "assert_equals(decompose('3/4'), [\"1/2\", \"1/4\"]) \n",
    "assert_equals(decompose('4/5'), [\"1/2\", \"1/4\", \"1/20\"])\n",
    "assert_equals(decompose('0.66'), [\"1/2\", \"1/7\", \"1/59\", \"1/5163\", \"1/53307975\"])\n",
    "assert_equals(decompose('75/3'), [\"25\"])"
   ]
  },
  {
   "cell_type": "markdown",
   "metadata": {},
   "source": [
    "### Alphabet wars - nuclear strike\n",
    "\n",
    "##### Introduction\n",
    "\n",
    "There is a war and nobody knows - the alphabet war!\n",
    "The letters hide in their nuclear shelters. The nuclear strikes hit the battlefield and killed a lot of them.\n",
    "\n",
    "##### Task\n",
    "\n",
    "Write a function that accepts `battlefield` string and returns letters that survived the nuclear strike.\n",
    "\n",
    "* The `battlefield` string consists of only small letters, `#`, `[` and `]`.\n",
    "* The nuclear shelter is represented by square brackets `[]`. The letters inside the square brackets represent letters inside the shelter.\n",
    "* The `#` means a place where nuclear strike hit the battlefield. If there is at least one `#` on the battlefield, all letters outside of shelter die. When there is no any `#` on the battlefield, all letters survive (but do not expect such scenario too often ;-P ).\n",
    "* The shelters have some durability. When 2 or more `#` hit close to the shelter, the shelter is destroyed and all letters inside evaporate. The 'close to the shelter' means on the ground between the shelter and the next shelter (or beginning/end of battlefield). The below samples make it clear for you.\n",
    "\n",
    "##### Example\n",
    "\n",
    "`abde[fgh]ijk     => \"abdefghijk\"  (all letters survive because there is no # )`  \n",
    "`ab#de[fgh]ijk    => \"fgh\" (all letters outside die because there is a # )`  \n",
    "`ab#de[fgh]ij#k   => \"\"  (all letters dies, there are 2 # close to the shellter )`  \n",
    "`##abde[fgh]ijk   => \"\"  (all letters dies, there are 2 # close to the shellter )`  \n",
    "`##abde[fgh]ijk[mn]op => \"mn\" (letters from the second shelter survive, there is no # close)`  \n",
    "`#ab#de[fgh]ijk[mn]op => \"mn\" (letters from the second shelter survive, there is no # close)`  \n",
    "`#abde[fgh]i#jk[mn]op => \"mn\" (letters from the second shelter survive, there is only 1 # close)`  \n",
    "`[a]#[b]#[c]  => \"ac\"`  \n",
    "`[a]#b#[c][d] => \"d\"`  \n",
    "`[a][b][c]    => \"abc\"`  \n",
    "`##a[a]b[c]#  => \"c\"`"
   ]
  },
  {
   "cell_type": "code",
   "execution_count": 136,
   "metadata": {},
   "outputs": [],
   "source": [
    "def alphabet_war(battlefield):\n",
    "    if symbols_count(battlefield) == 0:\n",
    "        return replace_marks(battlefield)\n",
    "    elif symbols_count(battlefield) == 1:\n",
    "        if symbols_count(battlefield, '[') == symbols_count(battlefield, ']' == 1):\n",
    "            return battlefield[battlefield.index('[')+1 : battlefield.index(']') ]\n",
    "    else:\n",
    "        return \"oops\"\n",
    "\n",
    "\n",
    "def symbols_count(string: str, symbol='#'):\n",
    "    count = 0\n",
    "    for s in string:\n",
    "        if s == symbol:\n",
    "            count += 1\n",
    "    return count\n",
    "\n",
    "\n",
    "def replace_marks(string: str, marks=['[', ']']):\n",
    "    for mark in marks:\n",
    "        if mark in string:\n",
    "            string = string.replace(mark, '')\n",
    "    return string"
   ]
  },
  {
   "cell_type": "code",
   "execution_count": 146,
   "metadata": {},
   "outputs": [],
   "source": [
    "def test(string: str):\n",
    "    if symbols_count(string) == 0:\n",
    "        return replace_marks(string)\n",
    "    if symbols_count(string) == 1:\n",
    "        if symbols_count(string, '[') == symbols_count(string, ']') == 1:\n",
    "            return string[string.index('[')+1 : string.index(']')]\n",
    "    "
   ]
  },
  {
   "cell_type": "code",
   "execution_count": 102,
   "metadata": {},
   "outputs": [
    {
     "name": "stdout",
     "output_type": "stream",
     "text": [
      "Test = False\n",
      "Test = False\n",
      "Test = True\n",
      "Test = False\n",
      "Test = True\n",
      "Test = False\n"
     ]
    }
   ],
   "source": [
    "assert_equals(alphabet_war('[a]#[b]#[c]'), 'ac')\n",
    "assert_equals(alphabet_war('[a]#b#[c][d]'),'d')\n",
    "assert_equals(alphabet_war('[a][b][c]'), 'abc')\n",
    "assert_equals(alphabet_war('##a[a]b[c]#'),'c')\n",
    "assert_equals(alphabet_war('abde[fgh]ijk'), 'abdefghijk')\n",
    "assert_equals(alphabet_war('ab#de[fgh]ijk'), 'fgh')\n",
    "# assert_equals(alphab(et_war('ab#de[fgh]ij#k'), '')\n",
    "# assert_equals(alphabet_war('##abde[fgh]ijk'), '')\n",
    "# assert_equals(alphabet_war('##abde[fgh]'), '')\n",
    "# assert_equals(alphabet_war('##abcde[fgh]'), '')\n",
    "# assert_equals(alphabet_war('abcde[fgh]'), 'abcdefgh') \n",
    "# assert_equals(alphabet_war('##abde[fgh]ijk[mn]op'), 'mn')\n",
    "# assert_equals(alphabet_war('#abde[fgh]i#jk[mn]op'), 'mn')\n",
    "# assert_equals(alphabet_war('[ab]adfd[dd]##[abe]dedf[ijk]d#d[h]#'), 'abijk')"
   ]
  },
  {
   "cell_type": "markdown",
   "metadata": {},
   "source": [
    "### Find the smallest\n",
    "\n",
    "You have a positive number `n` consisting of digits. You can do at most one operation: Choosing the index of a digit in the number, remove this digit at that index and insert it back to another or at the same place in the number in order to find the smallest number you can get.\n",
    "\n",
    "##### Task: \n",
    "Return an array or a tuple or a string depending on the language (see \"Sample Tests\") with\n",
    "\n",
    "1) the smallest number you got\n",
    "2) the index i of the digit d you took, i as small as possible\n",
    "3) the index j (as small as possible) where you insert this digit d to have the smallest number.\n",
    "\n",
    "##### Example:\n",
    "\n",
    "`smallest(261235) --> [126235, 2, 0] or (126235, 2, 0) or \"126235, 2, 0\"`\n",
    "\n",
    "`126235` is the smallest number gotten by taking `1` at index `2` and putting it at index `0`\n",
    "\n",
    "`smallest(209917) --> [29917, 0, 1] or ...`  \n",
    "\n",
    "`[29917, 1, 0] could be a solution too but index `i` in [29917, 1, 0] is greater than `  \n",
    "`index `i` in [29917, 0, 1].`  \n",
    "\n",
    "`29917` is the smallest number gotten by taking `2` at index `0` and putting it at index `1` which gave `029917` which is the number `29917`.\n",
    "\n",
    "`smallest(1000000) --> [1, 0, 6] or ...`  \n",
    "\n",
    "##### Note\n",
    "\n",
    "Have a look at \"Sample Tests\" to see the input and output in each language"
   ]
  },
  {
   "cell_type": "code",
   "execution_count": 1,
   "metadata": {
    "pycharm": {
     "is_executing": false
    }
   },
   "outputs": [],
   "source": []
  },
  {
   "cell_type": "markdown",
   "metadata": {},
   "source": [
    "### String incrementer\n",
    "\n",
    "Your job is to write a function which increments a string, to create a new string.\n",
    "\n",
    "If the string already ends with a number, the number should be incremented by 1.\n",
    "If the string does not end with a number. the number 1 should be appended to the new string.\n",
    "\n",
    "##### Examples:\n",
    "\n",
    "`foo -> foo1`\n",
    "\n",
    "`foobar23 -> foobar24`\n",
    "\n",
    "`foo0042 -> foo0043`\n",
    "\n",
    "`foo9 -> foo10`\n",
    "\n",
    "`foo099 -> foo100`\n",
    "\n",
    "*Attention: If the number has leading zeros the amount of digits should be considered.*"
   ]
  },
  {
   "cell_type": "code",
   "execution_count": 33,
   "metadata": {
    "pycharm": {
     "is_executing": false
    }
   },
   "outputs": [],
   "source": [
    "def increment_string(strng):\n",
    "    if strng == '':\n",
    "        return '1'\n",
    "    else:\n",
    "        string = is_number(strng)[0]\n",
    "        if is_number(strng)[1] == '':\n",
    "            number = '1'\n",
    "        else:\n",
    "            number = increment(is_number(strng)[1])\n",
    "        return string + number\n",
    "\n",
    "\n",
    "def is_number(strng: str):\n",
    "    numbers = ['0', '1', '2', '3', '4', '5', '6', '7', '8', '9']\n",
    "  #  marks = ['.', ',', ':', ';', '!', '?', '(', ')', '-', ' ']\n",
    "    try:\n",
    "        return('', str(int(strng)))\n",
    "    except ValueError:\n",
    "        for i in range(len(strng) - 1, -1, -1):\n",
    "            if strng[i] not in numbers:  # and strng[i] not in marks:\n",
    "                return strng[:i+1], strng[i+1:]\n",
    "\n",
    "\n",
    "def increment(strng: str):\n",
    "    #strng = replace_punctuation(strng)\n",
    "    l = len(strng)\n",
    "    n = int(strng) + 1\n",
    "    return str(n).rjust(l, '0')\n",
    "\n",
    "\n",
    "def replace_punctuation(strng: str):\n",
    "    marks = ['.', ',', ':', ';', '!', '?', '(', ')', '-', ' ']\n",
    "    for mark in marks:\n",
    "        if mark in strng:\n",
    "            strng = strng.replace(mark, '')\n",
    "    return strng           "
   ]
  },
  {
   "cell_type": "code",
   "execution_count": 34,
   "metadata": {
    "pycharm": {
     "is_executing": false
    }
   },
   "outputs": [
    {
     "name": "stdout",
     "output_type": "stream",
     "text": [
      "Test = True\n",
      "Test = True\n",
      "Test = True\n",
      "Test = True\n",
      "Test = True\n",
      "Test = True\n",
      "Test = True\n"
     ]
    }
   ],
   "source": [
    "assert_equals(increment_string(\"foo\"), \"foo1\")\n",
    "assert_equals(increment_string(\"foobar001\"), \"foobar002\")\n",
    "assert_equals(increment_string(\"foobar1\"), \"foobar2\")\n",
    "assert_equals(increment_string(\"foobar00\"), \"foobar01\")\n",
    "assert_equals(increment_string(\"foobar99\"), \"foobar100\")\n",
    "assert_equals(increment_string(\"foobar099\"), \"foobar100\")\n",
    "assert_equals(increment_string(\"\"), \"1\")\n",
    "# assert_equals(increment_string(\"ONkfMl/09hw~w36365345000000008321236190\"), \"ONkfMl/09hw~w ,36365345000000008321236190\")\n",
    "# assert_equals(increment_string(\"ch@^@D9#9U{A=30PwN%050902910`^!3G74/+7348Z)B38403304670000005126760\"), \"ch@^@D9#9U{A=30PwN%050902910`^!3G74/+7348Z)B384033046-70000005126760\")\n",
    "# assert_equals(increment_string(\"I$P@~J2725000000059931260\"), \"I$P@~J.2725000000059931260\")\n",
    "# assert_equals(increment_string(\"262A;m968033IE[@>743301500001\"), \"262A;m968033IE[@>?743301500001\")"
   ]
  },
  {
   "cell_type": "markdown",
   "metadata": {},
   "source": [
    "### Product of consecutive Fib numbers  \n",
    "\n",
    "The Fibonacci numbers are the numbers in the following integer sequence (Fn):\n",
    "\n",
    "`0, 1, 1, 2, 3, 5, 8, 13, 21, 34, 55, 89, 144, 233, ...`  \n",
    "\n",
    "such as\n",
    "\n",
    "`F(n) = F(n-1) + F(n-2) with F(0) = 0 and F(1) = 1. `  \n",
    "\n",
    "Given a number, say prod (for product), we search two Fibonacci numbers F(n) and F(n+1) verifying\n",
    "\n",
    "`F(n) * F(n+1) = prod.`  \n",
    "\n",
    "Your function productFib takes an integer (prod) and returns an array:\n",
    "\n",
    "`[F(n), F(n+1), true] or {F(n), F(n+1), 1} or (F(n), F(n+1), True)`  \n",
    "depending on the language `if F(n) * F(n+1) = prod`  \n",
    "\n",
    "If you don't find two consecutive `F(m)` verifying `F(m) * F(m+1) = prod` you will return\n",
    "\n",
    "`[F(m), F(m+1), false] or {F(n), F(n+1), 0} or (F(n), F(n+1), False)`  \n",
    "`F(m)` being the smallest one such as `F(m) * F(m+1) > prod`\n",
    "\n",
    "##### Examples\n",
    "`productFib(714) # should return [21, 34, true], `  \n",
    "                `# since F(8) = 21, F(9) = 34 and 714 = 21 * 34`  \n",
    "\n",
    "`productFib(800) # should return [34, 55, false],`   \n",
    "                `# since F(8) = 21, F(9) = 34, F(10) = 55 and 21 * 34 < 800 < 34 * 55`  \n",
    "                \n",
    "##### Notes\n",
    "Not useful here but we can tell how to choose the number n up to which to go: we can use the \"golden ratio\" phi which is `(1 + sqrt(5))/2` knowing that `F(n)` is asymptotic to: `phi^n / sqrt(5)`. That gives a possible upper bound to `n`.\n",
    "\n",
    "You can see examples in \"Example test\".\n",
    "\n",
    "References\n",
    "http://en.wikipedia.org/wiki/Fibonacci_number\n",
    "\n",
    "http://oeis.org/A000045"
   ]
  },
  {
   "cell_type": "code",
   "execution_count": 9,
   "metadata": {
    "pycharm": {
     "is_executing": false
    }
   },
   "outputs": [],
   "source": [
    "def productFib(prod):\n",
    "    # your code\n",
    "    pass\n",
    "\n",
    "def prime_numbers_generator(n):\n",
    "    a = range(n + 1)\n",
    "    l = []\n",
    "    i = 2\n",
    "    while i <= n:\n",
    "        if a[i] != 0:\n",
    "            l.append(a[i])\n",
    "            for j in xrange(i, n + 1, i):\n",
    "                a[j] = 0\n",
    "        i += 1\n",
    "    return l\n",
    "\n",
    "\n",
    "def divider(n: int):\n",
    "    \n",
    "    pass\n",
    "\n",
    "\n",
    "def is_fibonacci(a: int, b: int):\n",
    "    pass"
   ]
  },
  {
   "cell_type": "code",
   "execution_count": 10,
   "metadata": {
    "pycharm": {
     "is_executing": false
    }
   },
   "outputs": [
    {
     "ename": "NameError",
     "evalue": "name 'xrange' is not defined",
     "output_type": "error",
     "traceback": [
      "\u001b[0;31m---------------------------------------------------------------------------\u001b[0m",
      "\u001b[0;31mNameError\u001b[0m                                 Traceback (most recent call last)",
      "\u001b[0;32m<ipython-input-10-cf448e54528d>\u001b[0m in \u001b[0;36m<module>\u001b[0;34m\u001b[0m\n\u001b[0;32m----> 1\u001b[0;31m \u001b[0mprime_numbers_generator\u001b[0m\u001b[0;34m(\u001b[0m\u001b[0;36m52\u001b[0m\u001b[0;34m)\u001b[0m\u001b[0;34m\u001b[0m\u001b[0;34m\u001b[0m\u001b[0m\n\u001b[0m",
      "\u001b[0;32m<ipython-input-9-a6e373abd448>\u001b[0m in \u001b[0;36mprime_numbers_generator\u001b[0;34m(n)\u001b[0m\n\u001b[1;32m     10\u001b[0m         \u001b[0;32mif\u001b[0m \u001b[0ma\u001b[0m\u001b[0;34m[\u001b[0m\u001b[0mi\u001b[0m\u001b[0;34m]\u001b[0m \u001b[0;34m!=\u001b[0m \u001b[0;36m0\u001b[0m\u001b[0;34m:\u001b[0m\u001b[0;34m\u001b[0m\u001b[0;34m\u001b[0m\u001b[0m\n\u001b[1;32m     11\u001b[0m             \u001b[0ml\u001b[0m\u001b[0;34m.\u001b[0m\u001b[0mappend\u001b[0m\u001b[0;34m(\u001b[0m\u001b[0ma\u001b[0m\u001b[0;34m[\u001b[0m\u001b[0mi\u001b[0m\u001b[0;34m]\u001b[0m\u001b[0;34m)\u001b[0m\u001b[0;34m\u001b[0m\u001b[0;34m\u001b[0m\u001b[0m\n\u001b[0;32m---> 12\u001b[0;31m             \u001b[0;32mfor\u001b[0m \u001b[0mj\u001b[0m \u001b[0;32min\u001b[0m \u001b[0mxrange\u001b[0m\u001b[0;34m(\u001b[0m\u001b[0mi\u001b[0m\u001b[0;34m,\u001b[0m \u001b[0mn\u001b[0m \u001b[0;34m+\u001b[0m \u001b[0;36m1\u001b[0m\u001b[0;34m,\u001b[0m \u001b[0mi\u001b[0m\u001b[0;34m)\u001b[0m\u001b[0;34m:\u001b[0m\u001b[0;34m\u001b[0m\u001b[0;34m\u001b[0m\u001b[0m\n\u001b[0m\u001b[1;32m     13\u001b[0m                 \u001b[0ma\u001b[0m\u001b[0;34m[\u001b[0m\u001b[0mj\u001b[0m\u001b[0;34m]\u001b[0m \u001b[0;34m=\u001b[0m \u001b[0;36m0\u001b[0m\u001b[0;34m\u001b[0m\u001b[0;34m\u001b[0m\u001b[0m\n\u001b[1;32m     14\u001b[0m         \u001b[0mi\u001b[0m \u001b[0;34m+=\u001b[0m \u001b[0;36m1\u001b[0m\u001b[0;34m\u001b[0m\u001b[0;34m\u001b[0m\u001b[0m\n",
      "\u001b[0;31mNameError\u001b[0m: name 'xrange' is not defined"
     ]
    }
   ],
   "source": [
    "prime_numbers_generator(52)"
   ]
  }
 ],
 "metadata": {
  "kernelspec": {
   "display_name": "Python 3",
   "language": "python",
   "name": "python3"
  },
  "language_info": {
   "codemirror_mode": {
    "name": "ipython",
    "version": 3
   },
   "file_extension": ".py",
   "mimetype": "text/x-python",
   "name": "python",
   "nbconvert_exporter": "python",
   "pygments_lexer": "ipython3",
   "version": "3.7.4"
  }
 },
 "nbformat": 4,
 "nbformat_minor": 2
}
