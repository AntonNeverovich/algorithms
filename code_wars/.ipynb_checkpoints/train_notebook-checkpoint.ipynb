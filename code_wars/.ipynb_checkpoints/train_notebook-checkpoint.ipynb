{
 "cells": [
  {
   "cell_type": "markdown",
   "metadata": {},
   "source": [
    "# CODE WARS"
   ]
  },
  {
   "cell_type": "markdown",
   "metadata": {},
   "source": [
    "### Counting Sheep..."
   ]
  },
  {
   "cell_type": "markdown",
   "metadata": {},
   "source": [
    "Consider an array of sheep where some sheep may be missing from their place. We need a function that counts the number of sheep present in the array (true means present).\n",
    "\n",
    "For example,\n",
    "\n",
    "`[True,  True,  True,  False,\n",
    "  True,  True,  True,  True ,\n",
    "  True,  False, True,  False,\n",
    "  True,  False, False, True ,\n",
    "  True,  True,  True,  True ,\n",
    "  False, False, True,  True]`\n",
    "\n",
    "The correct answer would be 17.\n",
    "\n",
    "Hint: Don't forget to check for bad values like `null`/`undefined`"
   ]
  },
  {
   "cell_type": "code",
   "execution_count": 1,
   "metadata": {
    "pycharm": {
     "is_executing": false
    }
   },
   "outputs": [],
   "source": [
    "def count_sheeps(arrayOfSheeps):\n",
    "    count = 0\n",
    "    for sheep in arrayOfSheeps:\n",
    "        if sheep:\n",
    "            count += 1\n",
    "    return count"
   ]
  },
  {
   "cell_type": "code",
   "execution_count": 2,
   "metadata": {
    "pycharm": {
     "is_executing": false
    }
   },
   "outputs": [
    {
     "data": {
      "text/plain": [
       "17"
      ]
     },
     "execution_count": 2,
     "metadata": {},
     "output_type": "execute_result"
    }
   ],
   "source": [
    "array1 = [True,  True,  True,  False, \n",
    "          True,  True,  True,  True , \n",
    "          True,  False, True,  False, \n",
    "          True,  False, False, True , \n",
    "          True,  True,  True,  True ,\n",
    "          False, False, True,  True ]\n",
    "count_sheeps(array1)"
   ]
  },
  {
   "cell_type": "markdown",
   "metadata": {},
   "source": [
    "### Strip Comments"
   ]
  },
  {
   "cell_type": "markdown",
   "metadata": {},
   "source": [
    "Complete the solution so that it strips all text that follows any of a set of comment markers passed in. Any whitespace at the end of the line should also be stripped out.\n",
    "\n",
    "#### Example:\n",
    "\n",
    "Given an input string of:\n",
    "\n",
    "`apples, pears # and bananas\n",
    "grapes\n",
    "bananas !apples`\n",
    "\n",
    "#### The output expected would be:\n",
    "\n",
    "`apples, pears\n",
    "grapes\n",
    "bananas`"
   ]
  },
  {
   "cell_type": "code",
   "execution_count": 3,
   "metadata": {
    "pycharm": {
     "is_executing": false
    }
   },
   "outputs": [],
   "source": [
    "def solution(string,markers):\n",
    "    lines = string.splitlines()\n",
    "    for i in range(len(lines)):\n",
    "        for marker in markers:\n",
    "            if index_of(marker, lines[i]) >= 0:\n",
    "                lines[i] = lines[i][0: index_of(marker, lines[i])].rstrip()\n",
    "    return '\\n'.join(lines)\n",
    "\n",
    "\n",
    "def index_of(symbol, string):\n",
    "    for i in range(len(string)):\n",
    "        if string[i] == symbol:\n",
    "            return i\n",
    "    else:\n",
    "        return -1"
   ]
  },
  {
   "cell_type": "markdown",
   "metadata": {},
   "source": [
    "### Sudoku Solution Validator"
   ]
  },
  {
   "cell_type": "markdown",
   "metadata": {},
   "source": [
    "Sudoku Background\n",
    "Sudoku is a game played on a 9x9 grid. The goal of the game is to fill all cells of the grid with digits from 1 to 9, so that each column, each row, and each of the nine 3x3 sub-grids (also known as blocks) contain all of the digits from 1 to 9. \n",
    "(More info at: http://en.wikipedia.org/wiki/Sudoku)\n",
    "\n",
    "Sudoku Solution Validator\n",
    "Write a function `validSolution`/`ValidateSolution`/`valid_solution()` that accepts a 2D array representing a Sudoku board, and returns true if it is a valid solution, or false otherwise. The cells of the sudoku board may also contain 0's, which will represent empty cells. Boards containing one or more zeroes are considered to be invalid solutions.\n",
    "\n",
    "The board is always 9 cells by 9 cells, and every cell only contains integers from 0 to 9."
   ]
  },
  {
   "cell_type": "code",
   "execution_count": 4,
   "metadata": {
    "pycharm": {
     "is_executing": false
    }
   },
   "outputs": [],
   "source": [
    "def is_unique(l: list):\n",
    "    s = set(l)\n",
    "    return len(l) == len(s)\n",
    "\n",
    "def is_sum45(l: list):\n",
    "    return sum(l) == 45\n",
    "\n",
    "def get_column(board: list, index: int):\n",
    "    column = []\n",
    "    for row in board:\n",
    "        column.append(row[index])\n",
    "    return column\n",
    "\n",
    "def get_subgrid(board: list, x: int, y: int):\n",
    "    subgrid = []\n",
    "    for i in range(x, x + 3):\n",
    "        for j in range(y, y + 3):\n",
    "            subgrid.append(board[i][j])\n",
    "    return subgrid\n",
    "\n",
    "def to_columns(board: list):\n",
    "    result = []\n",
    "    for i in range(0, 9):\n",
    "        result.append(get_column(board, i))\n",
    "    return result\n",
    "\n",
    "def to_subgrids(board: list):\n",
    "    result = []\n",
    "    for i in range(0, 9, 3):\n",
    "        for j in range(0, 9, 3):\n",
    "            result.append(get_subgrid(board, i, j))\n",
    "    return result\n",
    "\n",
    "def validator(board: list):\n",
    "    for row in board:\n",
    "        if not (is_sum45(row) and is_unique(row)):\n",
    "            return False\n",
    "    else:\n",
    "        return True\n"
   ]
  },
  {
   "cell_type": "code",
   "execution_count": 5,
   "metadata": {
    "pycharm": {
     "is_executing": false
    }
   },
   "outputs": [],
   "source": [
    "def validSolution(board):\n",
    "    first_check = validator(board)\n",
    "    second_check = validator(to_columns(board))\n",
    "    third_check = validator(to_subgrids(board))\n",
    "    return first_check and second_check and third_check\n",
    "    "
   ]
  },
  {
   "cell_type": "markdown",
   "metadata": {},
   "source": [
    "### Sum of Odd Numbers"
   ]
  },
  {
   "cell_type": "markdown",
   "metadata": {},
   "source": [
    "Given the triangle of consecutive odd numbers:  \n",
    "        1  \n",
    "      3   5  \n",
    "    7   9   11  \n",
    " 13   15   17   19    \n",
    "...\n",
    "\n",
    "Calculate the row sums of this triangle from the row index (starting at index 1) e.g.:\n",
    "\n",
    "`row_sum_odd_numbers(1); # 1`\n",
    "`row_sum_odd_numbers(2); # 3 + 5 = 8`"
   ]
  },
  {
   "cell_type": "code",
   "execution_count": 6,
   "metadata": {
    "pycharm": {
     "is_executing": false
    }
   },
   "outputs": [],
   "source": [
    "def row_sum_odd_numbers(n):\n",
    "    #your code here\n",
    "    return n\n",
    "\n",
    "def amount_groups_in_sequence(l: list):\n",
    "    sequence_length = len(l)\n",
    "    number = 1\n",
    "    count = 0\n",
    "    while sequence_length > 0:\n",
    "        sequence_length -= number\n",
    "        count += 1\n",
    "        number += 1\n",
    "    return count\n",
    "\n",
    "def make_triangle(n: int):\n",
    "    odds = [x for x in range(n) if x % 2 != 0]\n",
    "    triangle = []\n",
    "    for i in range(len(odds)):\n",
    "        for j in range(1, amount_groups_in_sequence(odds) + 1):\n",
    "            triangle.append([odds[i : j]])\n",
    "            pass\n",
    "    return odds"
   ]
  },
  {
   "cell_type": "markdown",
   "metadata": {
    "pycharm": {
     "is_executing": false
    }
   },
   "source": [
    "### Simple Fun #27: Rectangle Rotation"
   ]
  },
  {
   "cell_type": "markdown",
   "metadata": {},
   "source": [
    "A rectangle with sides equal to even integers a and b is drawn on the Cartesian plane. Its center (the intersection point of its diagonals) coincides with the point (0, 0), but the sides of the rectangle are not parallel to the axes; instead, they are forming `45 degree angles` with the axes.\n",
    "\n",
    "How many points with integer coordinates are located inside the given rectangle (including on its sides)?"
   ]
  },
  {
   "cell_type": "code",
   "execution_count": 109,
   "metadata": {
    "pycharm": {
     "is_executing": false
    }
   },
   "outputs": [],
   "source": [
    "import math\n",
    "\n",
    "\n",
    "def rectangle_rotation(a, b):\n",
    "    rect = Rectangle(a, b)\n",
    "    s = 0\n",
    "    for sl in slice_rectangle(rect):\n",
    "        s += count_points(sl)\n",
    "    return s\n",
    "\n",
    "\n",
    "class Rectangle:\n",
    "    \n",
    "    def __init__(self, a: int, b: int):\n",
    "        self.a = a\n",
    "        self.b = b\n",
    "        self.A = self.tops()[0]\n",
    "        self.B = self.tops()[1]\n",
    "        self.C = self.tops()[2]\n",
    "        self.D = self.tops()[3]\n",
    "        self.AB = [self.A, self.B]\n",
    "        self.BC = [self.B, self.C]\n",
    "        self.AD = [self.A, self.D]\n",
    "        self.CD = [self.C, self.D]\n",
    "\n",
    "    def diagonal(self):\n",
    "        return (self.a ** 2 + self.b ** 2) ** 0.5\n",
    "\n",
    "    def diagonal_angle(self):\n",
    "        return math.asin(self.b / self.diagonal()), math.asin(self.a / self.diagonal())\n",
    "\n",
    "    def tops(self):\n",
    "        l = list(get_legs(self.diagonal() / 2, math.radians(45) - self.diagonal_angle()[0]))\n",
    "        if self.a >= self.b:\n",
    "            self.C = [l[0], l[1]]\n",
    "            self.A = [-1 * self.C[0], -1 * self.C[1]]\n",
    "            self.B = [self.C[1], self.C[0]]\n",
    "            self.D = [-1 * self.B[0], -1 * self.B[1]]\n",
    "        else:\n",
    "            self.B = [l[1], l[0]]\n",
    "            self.D = [-1 * self.B[0], -1 * self.B[1]]\n",
    "            self.C = [self.B[1], self.B[0]]\n",
    "            self.A = [-1 * self.C[0], -1 * self.C[1]]\n",
    "        return [self.A, self.B, self.C, self.D]\n",
    "\n",
    "    def square(self):\n",
    "        return self.a * self.b\n",
    "\n",
    "    def __str__(self):\n",
    "        return f'Rectangle {self.a}×{self.b} ' \\\n",
    "               f'(A[{self.A[0]:.2f}, {self.A[1]:.2f}], ' \\\n",
    "               f'B[{self.B[0]:.2f}, {self.B[1]:.2f}], ' \\\n",
    "               f'C[{self.C[0]:.2f}, {self.C[1]:.2f}], ' \\\n",
    "               f'D[{self.D[0]:.2f}, {self.D[1]:.2f}])'\n",
    "\n",
    "\n",
    "def get_legs(c: float, angle: float):\n",
    "    return c * math.cos(angle), c * math.sin(angle)\n",
    "\n",
    "\n",
    "def count_points(line: []):\n",
    "    start = math.ceil(min(line))\n",
    "    end = math.floor(max(line))\n",
    "    return end - start + 1\n",
    "\n",
    "\n",
    "def slice_rectangle(rect: Rectangle):\n",
    "    slices = []\n",
    "    if rect.a >= rect.b:\n",
    "        slice_AD = slice_points([rect.A[1], rect.D[1]])\n",
    "        for i in slice_AD: \n",
    "            slices.append(slice_cut(rect.AD, rect.CD, i))\n",
    "        slice_CA = slice_points([rect.A[1], rect.C[1]])  \n",
    "        for i in slice_CA:\n",
    "            slices.append(slice_cut(rect.AB, rect.CD, i))\n",
    "        slice_BC = slice_points([rect.B[1], rect.C[1]])\n",
    "        for i in slice_BC:\n",
    "            slices.append(slice_cut(rect.AB, rect.BC, i))\n",
    "    else:\n",
    "        slice_CD = slice_points([rect.C[1], rect.D[1]])\n",
    "        for i in slice_CD: \n",
    "            slices.append(slice_cut(rect.AD, rect.CD, i))\n",
    "        slice_AC = slice_points([rect.A[1], rect.C[1]])  \n",
    "        for i in slice_AC:\n",
    "            slices.append(slice_cut(rect.AD, rect.BC, i))\n",
    "        slice_AB = slice_points([rect.A[1], rect.B[1]])\n",
    "        for i in slice_AB:\n",
    "            slices.append(slice_cut(rect.AB, rect.BC, i))\n",
    "    return slices\n",
    "\n",
    "\n",
    "def slice_cut(line1: [], line2: [], m: int):\n",
    "    return [point_of_lines_intersection(line1, m)[0], \n",
    "            point_of_lines_intersection(line2, m)[0]]\n",
    "\n",
    "\n",
    "def slice_points(line: []):\n",
    "    points = []\n",
    "    for i in range(count_points(line)):\n",
    "        points.append(math.ceil(min(line)) + i)\n",
    "    return points\n",
    "\n",
    "\n",
    "def point_of_lines_intersection(base_line: [], axis_line: int):\n",
    "    x1 = base_line[0][0]\n",
    "    y1 = base_line[0][1]\n",
    "    x2 = base_line[1][0]\n",
    "    y2 = base_line[1][1]\n",
    "    m = axis_line\n",
    "\n",
    "    if x1 == x2:\n",
    "        k = 0\n",
    "        b = m\n",
    "        return [x1, m]\n",
    "    else:\n",
    "        k = (y2 - y1) / (x2 - x1)\n",
    "        b = y1 - (k * x1)\n",
    "        x = (m - b) / k\n",
    "        y = k * x + b\n",
    "        return [x, y]"
   ]
  },
  {
   "cell_type": "markdown",
   "metadata": {},
   "source": [
    "### Twice linear"
   ]
  },
  {
   "cell_type": "markdown",
   "metadata": {},
   "source": [
    "Consider a sequence u where u is defined as follows:\n",
    "\n",
    "The number `u(0) = 1` is the first one in `u`.\n",
    "For each `x` in `u`, then `y = 2 * x + 1` and `z = 3 * x + 1` must be in `u` too.\n",
    "There are no other numbers in `u`.  \n",
    "Ex: `u = [1, 3, 4, 7, 9, 10, 13, 15, 19, 21, 22, 27, ...]`\n",
    "\n",
    "1 gives 3 and 4, then 3 gives 7 and 10, 4 gives 9 and 13, then 7 gives 15 and 22 and so on...\n",
    "\n",
    "#### Task:\n",
    "Given parameter `n` the `function dbl_linear` (or dblLinear...) returns the element `u(n)` of the ordered (with <) sequence u (so, there are no duplicates).\n",
    "\n",
    "#### Example:\n",
    "`dbl_linear(10)` should return 22\n",
    "\n",
    "#### Note:\n",
    "Focus attention on efficiency"
   ]
  },
  {
   "cell_type": "code",
   "execution_count": 14,
   "metadata": {
    "pycharm": {
     "is_executing": false
    }
   },
   "outputs": [],
   "source": [
    "def dbl_linear(n):\n",
    "\t# your code\n",
    "    pass\n",
    "\n"
   ]
  },
  {
   "cell_type": "code",
   "execution_count": 15,
   "metadata": {
    "pycharm": {
     "is_executing": false
    }
   },
   "outputs": [],
   "source": [
    "def y(x):\n",
    "    return x * 2 +1\n",
    "\n",
    "def z(x):\n",
    "    return x * 3 + 1\n",
    "\n",
    "def u(n):\n",
    "    u = []\n",
    "    for i in range(n):\n",
    "        if i == 0:\n",
    "            u.append(1)\n",
    "        else:\n",
    "            if i % 2 != 0:\n",
    "                u.append(y(u[i - 1]))\n",
    "            else:\n",
    "                u.append(z(u[i - 1]))\n",
    "    return u\n",
    "    \n"
   ]
  }
 ],
 "metadata": {
  "kernelspec": {
   "display_name": "Python 3",
   "language": "python",
   "name": "python3"
  },
  "language_info": {
   "codemirror_mode": {
    "name": "ipython",
    "version": 3
   },
   "file_extension": ".py",
   "mimetype": "text/x-python",
   "name": "python",
   "nbconvert_exporter": "python",
   "pygments_lexer": "ipython3",
   "version": "3.7.4"
  }
 },
 "nbformat": 4,
 "nbformat_minor": 2
}
