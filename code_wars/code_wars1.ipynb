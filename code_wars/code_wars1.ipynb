{
 "cells": [
  {
   "cell_type": "markdown",
   "metadata": {},
   "source": [
    "# CODE WARS"
   ]
  },
  {
   "cell_type": "code",
   "execution_count": 1,
   "metadata": {},
   "outputs": [],
   "source": [
    "def assert_equals(a, b):\n",
    "    print(f'Test = {a == b}')"
   ]
  },
  {
   "cell_type": "markdown",
   "metadata": {},
   "source": [
    "### Counting Sheep..."
   ]
  },
  {
   "cell_type": "markdown",
   "metadata": {},
   "source": [
    "Consider an array of sheep where some sheep may be missing from their place. We need a function that counts the number of sheep present in the array (true means present).\n",
    "\n",
    "For example,\n",
    "\n",
    "`[True,  True,  True,  False,\n",
    "  True,  True,  True,  True ,\n",
    "  True,  False, True,  False,\n",
    "  True,  False, False, True ,\n",
    "  True,  True,  True,  True ,\n",
    "  False, False, True,  True]`\n",
    "\n",
    "The correct answer would be 17.\n",
    "\n",
    "Hint: Don't forget to check for bad values like `null`/`undefined`"
   ]
  },
  {
   "cell_type": "code",
   "execution_count": 1,
   "metadata": {
    "pycharm": {
     "is_executing": false
    }
   },
   "outputs": [],
   "source": [
    "def count_sheeps(arrayOfSheeps):\n",
    "    count = 0\n",
    "    for sheep in arrayOfSheeps:\n",
    "        if sheep:\n",
    "            count += 1\n",
    "    return count"
   ]
  },
  {
   "cell_type": "code",
   "execution_count": 2,
   "metadata": {
    "pycharm": {
     "is_executing": false
    }
   },
   "outputs": [
    {
     "data": {
      "text/plain": [
       "17"
      ]
     },
     "execution_count": 2,
     "metadata": {},
     "output_type": "execute_result"
    }
   ],
   "source": [
    "array1 = [True,  True,  True,  False, \n",
    "          True,  True,  True,  True , \n",
    "          True,  False, True,  False, \n",
    "          True,  False, False, True , \n",
    "          True,  True,  True,  True ,\n",
    "          False, False, True,  True ]\n",
    "count_sheeps(array1)"
   ]
  },
  {
   "cell_type": "markdown",
   "metadata": {},
   "source": [
    "### Strip Comments"
   ]
  },
  {
   "cell_type": "markdown",
   "metadata": {},
   "source": [
    "Complete the solution so that it strips all text that follows any of a set of comment markers passed in. Any whitespace at the end of the line should also be stripped out.\n",
    "\n",
    "#### Example:\n",
    "\n",
    "Given an input string of:\n",
    "\n",
    "`apples, pears # and bananas\n",
    "grapes\n",
    "bananas !apples`\n",
    "\n",
    "#### The output expected would be:\n",
    "\n",
    "`apples, pears\n",
    "grapes\n",
    "bananas`"
   ]
  },
  {
   "cell_type": "code",
   "execution_count": 3,
   "metadata": {
    "pycharm": {
     "is_executing": false
    }
   },
   "outputs": [],
   "source": [
    "def solution(string,markers):\n",
    "    lines = string.splitlines()\n",
    "    for i in range(len(lines)):\n",
    "        for marker in markers:\n",
    "            if index_of(marker, lines[i]) >= 0:\n",
    "                lines[i] = lines[i][0: index_of(marker, lines[i])].rstrip()\n",
    "    return '\\n'.join(lines)\n",
    "\n",
    "\n",
    "def index_of(symbol, string):\n",
    "    for i in range(len(string)):\n",
    "        if string[i] == symbol:\n",
    "            return i\n",
    "    else:\n",
    "        return -1"
   ]
  },
  {
   "cell_type": "markdown",
   "metadata": {},
   "source": [
    "### Sudoku Solution Validator"
   ]
  },
  {
   "cell_type": "markdown",
   "metadata": {},
   "source": [
    "Sudoku Background\n",
    "Sudoku is a game played on a 9x9 grid. The goal of the game is to fill all cells of the grid with digits from 1 to 9, so that each column, each row, and each of the nine 3x3 sub-grids (also known as blocks) contain all of the digits from 1 to 9. \n",
    "(More info at: http://en.wikipedia.org/wiki/Sudoku)\n",
    "\n",
    "Sudoku Solution Validator\n",
    "Write a function `validSolution`/`ValidateSolution`/`valid_solution()` that accepts a 2D array representing a Sudoku board, and returns true if it is a valid solution, or false otherwise. The cells of the sudoku board may also contain 0's, which will represent empty cells. Boards containing one or more zeroes are considered to be invalid solutions.\n",
    "\n",
    "The board is always 9 cells by 9 cells, and every cell only contains integers from 0 to 9."
   ]
  },
  {
   "cell_type": "code",
   "execution_count": 4,
   "metadata": {
    "pycharm": {
     "is_executing": false
    }
   },
   "outputs": [],
   "source": [
    "def is_unique(l: list):\n",
    "    s = set(l)\n",
    "    return len(l) == len(s)\n",
    "\n",
    "def is_sum45(l: list):\n",
    "    return sum(l) == 45\n",
    "\n",
    "def get_column(board: list, index: int):\n",
    "    column = []\n",
    "    for row in board:\n",
    "        column.append(row[index])\n",
    "    return column\n",
    "\n",
    "def get_subgrid(board: list, x: int, y: int):\n",
    "    subgrid = []\n",
    "    for i in range(x, x + 3):\n",
    "        for j in range(y, y + 3):\n",
    "            subgrid.append(board[i][j])\n",
    "    return subgrid\n",
    "\n",
    "def to_columns(board: list):\n",
    "    result = []\n",
    "    for i in range(0, 9):\n",
    "        result.append(get_column(board, i))\n",
    "    return result\n",
    "\n",
    "def to_subgrids(board: list):\n",
    "    result = []\n",
    "    for i in range(0, 9, 3):\n",
    "        for j in range(0, 9, 3):\n",
    "            result.append(get_subgrid(board, i, j))\n",
    "    return result\n",
    "\n",
    "def validator(board: list):\n",
    "    for row in board:\n",
    "        if not (is_sum45(row) and is_unique(row)):\n",
    "            return False\n",
    "    else:\n",
    "        return True\n"
   ]
  },
  {
   "cell_type": "code",
   "execution_count": 5,
   "metadata": {
    "pycharm": {
     "is_executing": false
    }
   },
   "outputs": [],
   "source": [
    "def validSolution(board):\n",
    "    first_check = validator(board)\n",
    "    second_check = validator(to_columns(board))\n",
    "    third_check = validator(to_subgrids(board))\n",
    "    return first_check and second_check and third_check\n",
    "    "
   ]
  },
  {
   "cell_type": "markdown",
   "metadata": {},
   "source": [
    "### Sum of Odd Numbers"
   ]
  },
  {
   "cell_type": "markdown",
   "metadata": {},
   "source": [
    "Given the triangle of consecutive odd numbers:  \n",
    "        1  \n",
    "      3   5  \n",
    "    7   9   11  \n",
    " 13   15   17   19    \n",
    "...\n",
    "\n",
    "Calculate the row sums of this triangle from the row index (starting at index 1) e.g.:\n",
    "\n",
    "`row_sum_odd_numbers(1); # 1`\n",
    "`row_sum_odd_numbers(2); # 3 + 5 = 8`"
   ]
  },
  {
   "cell_type": "code",
   "execution_count": 6,
   "metadata": {
    "pycharm": {
     "is_executing": false
    }
   },
   "outputs": [],
   "source": [
    "def row_sum_odd_numbers(n):\n",
    "    #your code here\n",
    "    return n\n",
    "\n",
    "def amount_groups_in_sequence(l: list):\n",
    "    sequence_length = len(l)\n",
    "    number = 1\n",
    "    count = 0\n",
    "    while sequence_length > 0:\n",
    "        sequence_length -= number\n",
    "        count += 1\n",
    "        number += 1\n",
    "    return count\n",
    "\n",
    "def make_triangle(n: int):\n",
    "    odds = [x for x in range(n) if x % 2 != 0]\n",
    "    triangle = []\n",
    "    for i in range(len(odds)):\n",
    "        for j in range(1, amount_groups_in_sequence(odds) + 1):\n",
    "            triangle.append([odds[i : j]])\n",
    "            pass\n",
    "    return odds"
   ]
  },
  {
   "cell_type": "markdown",
   "metadata": {
    "pycharm": {
     "is_executing": false
    }
   },
   "source": [
    "### Simple Fun #27: Rectangle Rotation"
   ]
  },
  {
   "cell_type": "markdown",
   "metadata": {},
   "source": [
    "A rectangle with sides equal to even integers a and b is drawn on the Cartesian plane. Its center (the intersection point of its diagonals) coincides with the point (0, 0), but the sides of the rectangle are not parallel to the axes; instead, they are forming `45 degree angles` with the axes.\n",
    "\n",
    "How many points with integer coordinates are located inside the given rectangle (including on its sides)?"
   ]
  },
  {
   "cell_type": "code",
   "execution_count": 7,
   "metadata": {
    "pycharm": {
     "is_executing": false
    }
   },
   "outputs": [],
   "source": [
    "import math\n",
    "\n",
    "\n",
    "def rectangle_rotation(a, b):\n",
    "    rect = Rectangle(a, b)\n",
    "    s = 0\n",
    "    for sl in slice_rectangle(rect):\n",
    "        s += count_points(sl)\n",
    "    return s\n",
    "\n",
    "\n",
    "class Rectangle:\n",
    "    \n",
    "    def __init__(self, a: int, b: int):\n",
    "        self.a = a\n",
    "        self.b = b\n",
    "        self.A = self.tops()[0]\n",
    "        self.B = self.tops()[1]\n",
    "        self.C = self.tops()[2]\n",
    "        self.D = self.tops()[3]\n",
    "        self.AB = [self.A, self.B]\n",
    "        self.BC = [self.B, self.C]\n",
    "        self.AD = [self.A, self.D]\n",
    "        self.CD = [self.C, self.D]\n",
    "\n",
    "    def diagonal(self):\n",
    "        return (self.a ** 2 + self.b ** 2) ** 0.5\n",
    "\n",
    "    def diagonal_angle(self):\n",
    "        return math.asin(self.b / self.diagonal()), math.asin(self.a / self.diagonal())\n",
    "\n",
    "    def tops(self):\n",
    "        l = list(get_legs(self.diagonal() / 2, math.radians(45) - self.diagonal_angle()[0]))\n",
    "        if self.a >= self.b:\n",
    "            self.C = [l[0], l[1]]\n",
    "            self.A = [-1 * self.C[0], -1 * self.C[1]]\n",
    "            self.B = [self.C[1], self.C[0]]\n",
    "            self.D = [-1 * self.B[0], -1 * self.B[1]]\n",
    "        else:\n",
    "            self.B = [l[1], l[0]]\n",
    "            self.D = [-1 * self.B[0], -1 * self.B[1]]\n",
    "            self.C = [self.B[1], self.B[0]]\n",
    "            self.A = [-1 * self.C[0], -1 * self.C[1]]\n",
    "        return [self.A, self.B, self.C, self.D]\n",
    "\n",
    "    def square(self):\n",
    "        return self.a * self.b\n",
    "\n",
    "    def __str__(self):\n",
    "        return f'Rectangle {self.a}×{self.b} ' \\\n",
    "               f'(A[{self.A[0]:.2f}, {self.A[1]:.2f}], ' \\\n",
    "               f'B[{self.B[0]:.2f}, {self.B[1]:.2f}], ' \\\n",
    "               f'C[{self.C[0]:.2f}, {self.C[1]:.2f}], ' \\\n",
    "               f'D[{self.D[0]:.2f}, {self.D[1]:.2f}])'\n",
    "\n",
    "\n",
    "def get_legs(c: float, angle: float):\n",
    "    return c * math.cos(angle), c * math.sin(angle)\n",
    "\n",
    "\n",
    "def count_points(line: []):\n",
    "    start = math.ceil(min(line))\n",
    "    end = math.floor(max(line))\n",
    "    return end - start + 1\n",
    "\n",
    "\n",
    "def slice_rectangle(rect: Rectangle):\n",
    "    slices = []\n",
    "    if rect.a >= rect.b:\n",
    "        slice_AD = slice_points([rect.A[1], rect.D[1]])\n",
    "        for i in slice_AD: \n",
    "            slices.append(slice_cut(rect.AD, rect.CD, i))\n",
    "        slice_CA = slice_points([rect.A[1], rect.C[1]])  \n",
    "        for i in slice_CA:\n",
    "            slices.append(slice_cut(rect.AB, rect.CD, i))\n",
    "        slice_BC = slice_points([rect.B[1], rect.C[1]])\n",
    "        for i in slice_BC:\n",
    "            slices.append(slice_cut(rect.AB, rect.BC, i))\n",
    "    else:\n",
    "        slice_CD = slice_points([rect.C[1], rect.D[1]])\n",
    "        for i in slice_CD: \n",
    "            slices.append(slice_cut(rect.AD, rect.CD, i))\n",
    "        slice_AC = slice_points([rect.A[1], rect.C[1]])  \n",
    "        for i in slice_AC:\n",
    "            slices.append(slice_cut(rect.AD, rect.BC, i))\n",
    "        slice_AB = slice_points([rect.A[1], rect.B[1]])\n",
    "        for i in slice_AB:\n",
    "            slices.append(slice_cut(rect.AB, rect.BC, i))\n",
    "    return slices\n",
    "\n",
    "\n",
    "def slice_cut(line1: [], line2: [], m: int):\n",
    "    return [point_of_lines_intersection(line1, m)[0], \n",
    "            point_of_lines_intersection(line2, m)[0]]\n",
    "\n",
    "\n",
    "def slice_points(line: []):\n",
    "    points = []\n",
    "    for i in range(count_points(line)):\n",
    "        points.append(math.ceil(min(line)) + i)\n",
    "    return points\n",
    "\n",
    "\n",
    "def point_of_lines_intersection(base_line: [], axis_line: int):\n",
    "    x1 = base_line[0][0]\n",
    "    y1 = base_line[0][1]\n",
    "    x2 = base_line[1][0]\n",
    "    y2 = base_line[1][1]\n",
    "    m = axis_line\n",
    "\n",
    "    if x1 == x2:\n",
    "        k = 0\n",
    "        b = m\n",
    "        return [x1, m]\n",
    "    else:\n",
    "        k = (y2 - y1) / (x2 - x1)\n",
    "        b = y1 - (k * x1)\n",
    "        x = (m - b) / k\n",
    "        y = k * x + b\n",
    "        return [x, y]"
   ]
  },
  {
   "cell_type": "markdown",
   "metadata": {},
   "source": [
    "### Twice linear"
   ]
  },
  {
   "cell_type": "markdown",
   "metadata": {},
   "source": [
    "Consider a sequence u where u is defined as follows:\n",
    "\n",
    "The number `u(0) = 1` is the first one in `u`.\n",
    "For each `x` in `u`, then `y = 2 * x + 1` and `z = 3 * x + 1` must be in `u` too.\n",
    "There are no other numbers in `u`.  \n",
    "Ex: `u = [1, 3, 4, 7, 9, 10, 13, 15, 19, 21, 22, 27, ...]`\n",
    "\n",
    "1 gives 3 and 4, then 3 gives 7 and 10, 4 gives 9 and 13, then 7 gives 15 and 22 and so on...\n",
    "\n",
    "#### Task:\n",
    "Given parameter `n` the `function dbl_linear` (or dblLinear...) returns the element `u(n)` of the ordered (with <) sequence u (so, there are no duplicates).\n",
    "\n",
    "#### Example:\n",
    "`dbl_linear(10)` should return 22\n",
    "\n",
    "#### Note:\n",
    "Focus attention on efficiency"
   ]
  },
  {
   "cell_type": "code",
   "execution_count": 8,
   "metadata": {
    "pycharm": {
     "is_executing": false
    }
   },
   "outputs": [],
   "source": [
    "def dbl_linear(n):\n",
    "\t# your code\n",
    "    pass\n",
    "\n"
   ]
  },
  {
   "cell_type": "code",
   "execution_count": 9,
   "metadata": {
    "pycharm": {
     "is_executing": false
    }
   },
   "outputs": [],
   "source": [
    "def y(x):\n",
    "    return x * 2 +1\n",
    "\n",
    "def z(x):\n",
    "    return x * 3 + 1\n",
    "\n",
    "def u(n):\n",
    "    u = []\n",
    "    for i in range(n):\n",
    "        if i == 0:\n",
    "            u.append(1)\n",
    "        else:\n",
    "            if i % 2 != 0:\n",
    "                u.append(y(u[i - 1]))\n",
    "            else:\n",
    "                u.append(z(u[i - 1]))\n",
    "    return u\n",
    "    \n"
   ]
  },
  {
   "cell_type": "markdown",
   "metadata": {},
   "source": [
    "### Find the unique number\n",
    "There is an array with some numbers. All numbers are equal except for one. Try to find it!\n",
    "\n",
    "`find_uniq([ 1, 1, 1, 2, 1, 1 ]) == 2`  \n",
    "`find_uniq([ 0, 0, 0.55, 0, 0 ]) == 0.55`\n",
    "\n",
    "It’s guaranteed that array contains more than 3 numbers.\n",
    "\n",
    "The tests contain some very huge arrays, so think about performance.\n",
    "\n",
    "This is the first kata in series:\n",
    "\n",
    "1. Find the unique number (this kata)\n",
    "2. Find the unique string\n",
    "3. Find The Unique"
   ]
  },
  {
   "cell_type": "code",
   "execution_count": 10,
   "metadata": {
    "pycharm": {
     "is_executing": false
    }
   },
   "outputs": [],
   "source": [
    "def find_uniq(arr):\n",
    "    n = 0\n",
    "    arr.sort()\n",
    "    if arr[0] == arr[1]: n = arr[len(arr) - 1]\n",
    "    else: n = arr[0]                \n",
    "    return n   # n: unique integer in the array"
   ]
  },
  {
   "cell_type": "markdown",
   "metadata": {},
   "source": [
    "### Statistics for an Athletic Association  \n",
    "  \n",
    "You are the \"computer expert\" of a local Athletic Association (C.A.A.). Many teams of runners come to compete. Each time you get a string of all race results of every team who has run. For example here is a string showing the individual results of a team of 5 runners:\n",
    "\n",
    "`\"01|15|59, 1|47|6, 01|17|20, 1|32|34, 2|3|17\"`\n",
    "\n",
    "Each part of the string is of the form: `h|m|s` where h, m, s (h for hour, m for minutes, s for seconds) are positive or null integer (represented as strings) with one or two digits. There are no traps in this format.\n",
    "\n",
    "To compare the results of the teams you are asked for giving three statistics; range, average and median.\n",
    "\n",
    "`Range` : difference between the lowest and highest values. In {4, 6, 9, 3, 7} the lowest value is 3, and the highest is 9, so the range is 9 − 3 = 6.\n",
    "\n",
    "`Mean or Average` : To calculate mean, add together all of the numbers in a set and then divide the sum by the total count of numbers.\n",
    "\n",
    "`Median` : In statistics, the median is the number separating the higher half of a data sample from the lower half. The median of a finite list of numbers can be found by arranging all the observations from lowest value to highest value and picking the middle one (e.g., the median of {3, 3, 5, 9, 11} is 5) when there is an odd number of observations. If there is an even number of observations, then there is no single middle value; the median is then defined to be the mean of the two middle values (the median of {3, 5, 6, 9} is (5 + 6) / 2 = 5.5).\n",
    "\n",
    "Your task is to return a string giving these 3 values. For the example given above, the string result will be\n",
    "\n",
    "`\"Range: 00|47|18 Average: 01|35|15 Median: 01|32|34\"`\n",
    "\n",
    "of the form:\n",
    "\n",
    "`\"Range: hh|mm|ss Average: hh|mm|ss Median: hh|mm|ss\"`\n",
    "\n",
    "where hh, mm, ss are integers (represented by strings) with each 2 digits.\n",
    "\n",
    "##### Remarks:\n",
    "\n",
    "1. if a result in seconds is ab.xy... it will be given truncated as ab.\n",
    "\n",
    "2. if the given string is \"\" you will return \"\""
   ]
  },
  {
   "cell_type": "code",
   "execution_count": 11,
   "metadata": {
    "pycharm": {
     "is_executing": false
    }
   },
   "outputs": [],
   "source": [
    "def stat(strg: str):\n",
    "    l = [str_to_time(s.replace(',', '')) for s in strg.split()]\n",
    "    if l:\n",
    "        rng = time_to_str(max(l) - min(l))\n",
    "        avr = time_to_str(sum(l) // len(l))\n",
    "        med = time_to_str(median(l))\n",
    "        return f'Range: {rng} Average: {avr} Median: {med}'\n",
    "    else:\n",
    "        return ''\n",
    "\n",
    "\n",
    "def median(nums: []):\n",
    "    l = len(nums)\n",
    "    nums.sort()\n",
    "    if l % 2 != 0:\n",
    "        return nums[(l // 2)]\n",
    "    else:\n",
    "        return (nums[(l // 2)] + nums[(l // 2) - 1]) / 2\n",
    "\n",
    "\n",
    "def str_to_time(string: str):\n",
    "    t = string.split('|')\n",
    "    h = int(t[0])\n",
    "    m = int(t[1])\n",
    "    s = int(t[2])\n",
    "    return h * 60 * 60 + m * 60 + s\n",
    "\n",
    "\n",
    "def time_to_str(time: int):\n",
    "    h = int(time // 3600)\n",
    "    m = int((time % 3600) // 60)\n",
    "    s = int(time - (h * 3600) - (m * 60))\n",
    "    return f'{h.zfill(2)}|{m.zfill(2)}|{s.zfill(2)}'    "
   ]
  },
  {
   "cell_type": "markdown",
   "metadata": {},
   "source": [
    "### Generic numeric template formatter  \n",
    "  \n",
    "Your goal is to create a function to format a number given a template; if the number is not present, use the digits `1234567890` to fill in the spaces.\n",
    "\n",
    "A few rules:\n",
    "\n",
    "the template might consist of other numbers, special characters or the like: you need to replace only alphabetical characters (both lower- and uppercase);\n",
    "if the given or default string representing the number is shorter than the template, just repeat it to fill all the spaces.\n",
    "A few examples:\n",
    "\n",
    "`numeric_formatter(\"xxx xxxxx xx\",\"5465253289\") == \"546 52532 89\"`  \n",
    "`numeric_formatter(\"xxx xxxxx xx\") == \"123 45678 90\"`  \n",
    "`numeric_formatter(\"+555 aaaa bbbb\", \"18031978\") == \"+555 1803 1978\"`  \n",
    "`numeric_formatter(\"+555 aaaa bbbb\") == \"+555 1234 5678\"`  \n",
    "`numeric_formatter(\"xxxx yyyy zzzz\") == \"1234 5678 9012\"`  "
   ]
  },
  {
   "cell_type": "code",
   "execution_count": 12,
   "metadata": {
    "pycharm": {
     "is_executing": false
    }
   },
   "outputs": [],
   "source": [
    "def numeric_formatter(*template):\n",
    "    s = template[0]\n",
    "    n = template[1] if len(template) == 2 else '1234567890'\n",
    "    res = []\n",
    "    res.append(replace_letter_to_digit(s, n))\n",
    "\n",
    "    return ' '.join(res)\n",
    "\n",
    "\n",
    "def is_digit(s: str) -> bool:\n",
    "    symb = ['+', '/', '-', '*']\n",
    "    b = False\n",
    "    for i in range(10):\n",
    "        if s == str(i):\n",
    "            b = True\n",
    "    for i in range(len(symb)):\n",
    "        if s == symb[i]:\n",
    "            b = True\n",
    "    return b\n",
    "\n",
    "\n",
    "def replace_letter_to_digit(letters: str, digits: str):\n",
    "    l = list(letters)\n",
    "    d = list(digits)\n",
    "    m = 0\n",
    "    for k in range(len(l)):\n",
    "        if l[k] == ' ' or is_digit(l[k]):\n",
    "            continue\n",
    "        if m % len(d) == 0:\n",
    "            m = 0\n",
    "        l[k] = d[m]\n",
    "        m += 1\n",
    "    return ''.join(l)"
   ]
  },
  {
   "cell_type": "markdown",
   "metadata": {},
   "source": [
    "### Prize Draw  \n",
    "   \n",
    "To participate in a prize draw each one gives his/her firstname.\n",
    "\n",
    "Each letter of a firstname has a value which is its rank in the English alphabet. `A` and `a` have rank `1`, `B` and `b` rank `2` and so on.\n",
    "\n",
    "The *length* of the firstname is added to the sum of these ranks hence a number `som`.\n",
    "\n",
    "An array of random weights is linked to the firstnames and each `som` is multiplied by its corresponding weight to get what they call a `winning number`.\n",
    "<!--more-->\n",
    "##### Example:\n",
    "`names: \"COLIN,AMANDBA,AMANDAB,CAROL,PauL,JOSEPH\"`  \n",
    "`weights: [1, 4, 4, 5, 2, 1]`   \n",
    "   \n",
    "`PauL -> som = length of firstname + 16 + 1 + 21 + 12 = 4 + 50 -> 54`   \n",
    "`The *weight* associated with PauL is 2 so PauL's *winning number* is 54 * 2 = 108.`    \n",
    "\n",
    "Now one can sort the firstnames in decreasing order of the `winning numbers`. When two people have the same `winning number` sort them *alphabetically* by their firstnames.\n",
    "\n",
    "##### Task:    \n",
    "\n",
    "* parameters: `st` a string of firstnames, `we` an array of weights, `n` a rank\n",
    "* return: the firstname of the participant whose rank is `n` (ranks are numbered from 1)\n",
    "\n",
    "##### Example:\n",
    "`names: \"COLIN,AMANDBA,AMANDAB,CAROL,PauL,JOSEPH\"`   \n",
    "`weights: [1, 4, 4, 5, 2, 1]`   \n",
    "`n: 4`   \n",
    "    \n",
    "`The function should return: \"PauL\"`  \n",
    "\n",
    "##### Note:  \n",
    "\n",
    "* If `st` is empty return \"No participants\".\n",
    "* If n is greater than the number of participants then return \"Not enough participants\".\n",
    "* See Examples Test Cases for more examples."
   ]
  },
  {
   "cell_type": "code",
   "execution_count": 13,
   "metadata": {
    "pycharm": {
     "is_executing": false
    }
   },
   "outputs": [],
   "source": [
    "import string\n",
    "\n",
    "\n",
    "def rank(st, we, n):\n",
    "    if st:\n",
    "        list_players = []\n",
    "        name_players = [player for player in st.split(',')]\n",
    "        if n > len(name_players):\n",
    "            return 'Not enough participants'\n",
    "        else:\n",
    "            if len(name_players) == len(we):\n",
    "                for i in range(len(name_players)):\n",
    "                    list_players.append(Player(name_players[i], we[i]))\n",
    "\n",
    "            sorted_players = sorted(list_players, key=lambda x: x.name)\n",
    "            sorted_players.sort(key=lambda x: x.winning_number, reverse=True)\n",
    "            return sorted_players[n - 1].name\n",
    "    else:\n",
    "        return 'No participants'\n",
    "\n",
    "\n",
    "class Player:\n",
    "\n",
    "    def __init__(self, name: str, weight: int) -> None:\n",
    "        self.name = name\n",
    "        self.som = self.get_som()\n",
    "        self.weight = weight\n",
    "        self.winning_number = self.som * self.weight\n",
    "\n",
    "    @classmethod\n",
    "    def letter_rank(cls, s: str):\n",
    "        l = [b for b in string.ascii_lowercase]\n",
    "        for i in range(len(l)):\n",
    "            if s.lower() == l[i]:\n",
    "                return i + 1\n",
    "\n",
    "    def get_som(self):\n",
    "        return len(self.name) + sum([self.letter_rank(s) for s in self.name])\n",
    "\n",
    "    def __str__(self) -> str:\n",
    "        return '{0}: {1}'.format(self.name, self.winning_number)"
   ]
  },
  {
   "cell_type": "markdown",
   "metadata": {},
   "source": [
    "### Seven Segment Display\n",
    "   \n",
    "A Seven Segment Display is an electronic display device, used to display decimal or hexadecimal numerals. It involves seven led segments that are lit in specific combinations to represent a specific numeral. An example of each combination is shown below:\n",
    "\n",
    "![](http://drive.dilibrium.ru/img/7-segments_Indicator.gif)\n",
    "\n",
    "For this Kata, you must accept an integer in the range `0 - 999999` and print it as a string (in decimal format), with each digit being represented as its own seven segment display (6x seven segment displays in total). Each of the individual led segments per display should be represented by three hashes ###. Vertical bars | (ASCII 124) represent the edges of each display, with a single whitespace on either side between the edge and the area of the led segments. An example of the expected output is shown below:\n",
    "\n",
    "`segment_display(123456) = `   \n",
    "`|       |  ###  |  ###  |       |  ###  |  ###  |`   \n",
    "`|     # |     # |     # | #   # | #     | #     |`   \n",
    "`|     # |     # |     # | #   # | #     | #     |`  \n",
    "`|     # |     # |     # | #   # | #     | #     |`  \n",
    "`|       |  ###  |  ###  |  ###  |  ###  |  ###  |`  \n",
    "`|     # | #     |     # |     # |     # | #   # |`  \n",
    "`|     # | #     |     # |     # |     # | #   # |`  \n",
    "`|     # | #     |     # |     # |     # | #   # |`  \n",
    "`|       |  ###  |  ###  |       |  ###  |  ###  |`  \n",
    "\n",
    "For clarity, the entire set of required combinations is provided below:\n",
    "\n",
    "`|  ###  |       |  ###  |  ###  |       |  ###  |  ###  |  ###  |  ###  |  ###  |`  \n",
    "`| #   # |     # |     # |     # | #   # | #     | #     |     # | #   # | #   # |`  \n",
    "`| #   # |     # |     # |     # | #   # | #     | #     |     # | #   # | #   # |`  \n",
    "`| #   # |     # |     # |     # | #   # | #     | #     |     # | #   # | #   # |`  \n",
    "`|       |       |  ###  |  ###  |  ###  |  ###  |  ###  |       |  ###  |  ###  |`  \n",
    "`| #   # |     # | #     |     # |     # |     # | #   # |     # | #   # |     # |`  \n",
    "`| #   # |     # | #     |     # |     # |     # | #   # |     # | #   # |     # |`  \n",
    "`| #   # |     # | #     |     # |     # |     # | #   # |     # | #   # |     # |`  \n",
    "`|  ###  |       |  ###  |  ###  |       |  ###  |  ###  |       |  ###  |  ###  |`  \n",
    "   \n",
    "If the number is smaller than 6 digits, the result should be justified to the right, with the unused segments being blank (as they are not turned on). Refer to the sample test for an example.\n",
    "\n",
    "###### Note:  \n",
    "There should not be any trailing whitespace for any line."
   ]
  },
  {
   "cell_type": "code",
   "execution_count": 14,
   "metadata": {
    "pycharm": {
     "is_executing": false
    }
   },
   "outputs": [],
   "source": [
    "def segment_display(num):\n",
    "    l = number_to_list(num)\n",
    "    s = [''] * 9\n",
    "\n",
    "    if num == 0:\n",
    "        for i in range(len(s)):\n",
    "            for j in range(len(l) - 1):\n",
    "                s[i] += \"|       \"\n",
    "            s[i] += '|' + digits[i][l[len(l) - 1]]\n",
    "    else:\n",
    "        for i in range(len(s)):\n",
    "            for j in range(len(l)):\n",
    "                if l[j] is None:\n",
    "                    s[i] += \"|       \"\n",
    "                else:\n",
    "                    s[i] += '|' + digits[i][l[j]]\n",
    "\n",
    "    res = ''\n",
    "    for i in range(len(s) - 1):\n",
    "        res += s[i] + '|\\n'\n",
    "    res += s[len(s) - 1] + '|'\n",
    "    return res\n",
    "\n",
    "\n",
    "def number_to_list(num: int):\n",
    "    n = [int(i) for i in str(num)]\n",
    "    if len(n) < 6:\n",
    "        while len(n) < 6:\n",
    "            n.insert(0, None)\n",
    "    return n\n",
    "\n",
    "\n",
    "digits = []\n",
    "digits.append(['  ###  ', '       ', '  ###  ', '  ###  ', '       ', '  ###  ', '  ###  ', '  ###  ', '  ###  ', '  ###  '])\n",
    "digits.append([' #   # ', '     # ', '     # ', '     # ', ' #   # ', ' #     ', ' #     ', '     # ', ' #   # ', ' #   # '])\n",
    "digits.append([' #   # ', '     # ', '     # ', '     # ', ' #   # ', ' #     ', ' #     ', '     # ', ' #   # ', ' #   # '])\n",
    "digits.append([' #   # ', '     # ', '     # ', '     # ', ' #   # ', ' #     ', ' #     ', '     # ', ' #   # ', ' #   # '])\n",
    "digits.append(['       ', '       ', '  ###  ', '  ###  ', '  ###  ', '  ###  ', '  ###  ', '       ', '  ###  ', '  ###  '])\n",
    "digits.append([' #   # ', '     # ', ' #     ', '     # ', '     # ', '     # ', ' #   # ', '     # ', ' #   # ', '     # '])\n",
    "digits.append([' #   # ', '     # ', ' #     ', '     # ', '     # ', '     # ', ' #   # ', '     # ', ' #   # ', '     # '])\n",
    "digits.append([' #   # ', '     # ', ' #     ', '     # ', '     # ', '     # ', ' #   # ', '     # ', ' #   # ', '     # '])\n",
    "digits.append(['  ###  ', '       ', '  ###  ', '  ###  ', '       ', '  ###  ', '  ###  ', '       ', '  ###  ', '  ###  '])"
   ]
  }
 ],
 "metadata": {
  "kernelspec": {
   "display_name": "Python 3",
   "language": "python",
   "name": "python3"
  },
  "language_info": {
   "codemirror_mode": {
    "name": "ipython",
    "version": 3
   },
   "file_extension": ".py",
   "mimetype": "text/x-python",
   "name": "python",
   "nbconvert_exporter": "python",
   "pygments_lexer": "ipython3",
   "version": "3.7.4"
  }
 },
 "nbformat": 4,
 "nbformat_minor": 2
}
