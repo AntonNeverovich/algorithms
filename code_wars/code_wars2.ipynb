{
 "cells": [
  {
   "cell_type": "markdown",
   "metadata": {},
   "source": [
    "# CODE WARS 2"
   ]
  },
  {
   "cell_type": "code",
   "execution_count": 1,
   "metadata": {
    "pycharm": {
     "is_executing": false
    }
   },
   "outputs": [],
   "source": [
    "def assert_equals(a, b):\n",
    "    print(f'Test = {a == b}')"
   ]
  },
  {
   "cell_type": "markdown",
   "metadata": {},
   "source": [
    "### Find the smallest\n",
    "\n",
    "You have a positive number `n` consisting of digits. You can do at most one operation: Choosing the index of a digit in the number, remove this digit at that index and insert it back to another or at the same place in the number in order to find the smallest number you can get.\n",
    "\n",
    "##### Task: \n",
    "Return an array or a tuple or a string depending on the language (see \"Sample Tests\") with\n",
    "\n",
    "1) the smallest number you got\n",
    "2) the index i of the digit d you took, i as small as possible\n",
    "3) the index j (as small as possible) where you insert this digit d to have the smallest number.\n",
    "\n",
    "##### Example:\n",
    "\n",
    "`smallest(261235) --> [126235, 2, 0] or (126235, 2, 0) or \"126235, 2, 0\"`\n",
    "\n",
    "`126235` is the smallest number gotten by taking `1` at index `2` and putting it at index `0`\n",
    "\n",
    "`smallest(209917) --> [29917, 0, 1] or ...`  \n",
    "\n",
    "`[29917, 1, 0] could be a solution too but index `i` in [29917, 1, 0] is greater than `  \n",
    "`index `i` in [29917, 0, 1].`  \n",
    "\n",
    "`29917` is the smallest number gotten by taking `2` at index `0` and putting it at index `1` which gave `029917` which is the number `29917`.\n",
    "\n",
    "`smallest(1000000) --> [1, 0, 6] or ...`  \n",
    "\n",
    "##### Note\n",
    "\n",
    "Have a look at \"Sample Tests\" to see the input and output in each language"
   ]
  },
  {
   "cell_type": "code",
   "execution_count": 1,
   "metadata": {
    "pycharm": {
     "is_executing": false
    }
   },
   "outputs": [],
   "source": []
  },
  {
   "cell_type": "markdown",
   "metadata": {},
   "source": [
    "### String incrementer\n",
    "\n",
    "Your job is to write a function which increments a string, to create a new string.\n",
    "\n",
    "If the string already ends with a number, the number should be incremented by 1.\n",
    "If the string does not end with a number. the number 1 should be appended to the new string.\n",
    "\n",
    "##### Examples:\n",
    "\n",
    "`foo -> foo1`\n",
    "\n",
    "`foobar23 -> foobar24`\n",
    "\n",
    "`foo0042 -> foo0043`\n",
    "\n",
    "`foo9 -> foo10`\n",
    "\n",
    "`foo099 -> foo100`\n",
    "\n",
    "*Attention: If the number has leading zeros the amount of digits should be considered.*"
   ]
  },
  {
   "cell_type": "code",
   "execution_count": 2,
   "metadata": {
    "pycharm": {
     "is_executing": false
    }
   },
   "outputs": [],
   "source": [
    "def increment_string(strng):\n",
    "    if strng == '':\n",
    "        return '1'\n",
    "    else:\n",
    "        string = is_number(strng)[0]\n",
    "        if is_number(strng)[1] == '':\n",
    "            number = '1'\n",
    "        else:\n",
    "            number = increment(is_number(strng)[1])\n",
    "        return string + number\n",
    "\n",
    "\n",
    "def is_number(strng: str):\n",
    "    numbers = ['0', '1', '2', '3', '4', '5', '6', '7', '8', '9']\n",
    "  #  marks = ['.', ',', ':', ';', '!', '?', '(', ')', '-', ' ']\n",
    "    try:\n",
    "        return('', str(int(strng)))\n",
    "    except ValueError:\n",
    "        for i in range(len(strng) - 1, -1, -1):\n",
    "            if strng[i] not in numbers:  # and strng[i] not in marks:\n",
    "                return strng[:i+1], strng[i+1:]\n",
    "\n",
    "\n",
    "def increment(strng: str):\n",
    "    #strng = replace_punctuation(strng)\n",
    "    l = len(strng)\n",
    "    n = int(strng) + 1\n",
    "    return str(n).rjust(l, '0')\n",
    "\n",
    "\n",
    "def replace_punctuation(strng: str):\n",
    "    marks = ['.', ',', ':', ';', '!', '?', '(', ')', '-', ' ']\n",
    "    for mark in marks:\n",
    "        if mark in strng:\n",
    "            strng = strng.replace(mark, '')\n",
    "    return strng           "
   ]
  },
  {
   "cell_type": "code",
   "execution_count": 3,
   "metadata": {
    "pycharm": {
     "is_executing": false
    }
   },
   "outputs": [
    {
     "data": {
      "text/plain": "'hgfiuyhbiughjjjjjk5743241'"
     },
     "metadata": {},
     "output_type": "execute_result",
     "execution_count": 3
    }
   ],
   "source": [
    "replace_punctuation('hgf,iuyhb.iughjjjjjk!5743241)))')"
   ]
  },
  {
   "cell_type": "code",
   "execution_count": 4,
   "metadata": {
    "pycharm": {
     "is_executing": false
    }
   },
   "outputs": [
    {
     "data": {
      "text/plain": "'rtyuiyrt4567654'"
     },
     "metadata": {},
     "output_type": "execute_result",
     "execution_count": 4
    }
   ],
   "source": [
    "replace_punctuation('rtyuiyrt4567654')"
   ]
  },
  {
   "cell_type": "code",
   "execution_count": 5,
   "metadata": {
    "pycharm": {
     "is_executing": false
    }
   },
   "outputs": [
    {
     "data": {
      "text/plain": "('qwe000 000op,0000000000..', '0000')"
     },
     "metadata": {},
     "output_type": "execute_result",
     "execution_count": 5
    }
   ],
   "source": [
    "s = 'qwe000 000op,0000000000..0000'\n",
    "f = is_number(s)\n",
    "f"
   ]
  },
  {
   "cell_type": "code",
   "execution_count": 6,
   "metadata": {
    "pycharm": {
     "is_executing": false
    }
   },
   "outputs": [
    {
     "data": {
      "text/plain": "'0001'"
     },
     "metadata": {},
     "output_type": "execute_result",
     "execution_count": 6
    }
   ],
   "source": [
    "increment(f[1])\n"
   ]
  },
  {
   "cell_type": "code",
   "execution_count": 7,
   "metadata": {
    "pycharm": {
     "is_executing": false
    }
   },
   "outputs": [
    {
     "data": {
      "text/plain": "'qwe000 000op,0000000000..0001'"
     },
     "metadata": {},
     "output_type": "execute_result",
     "execution_count": 7
    }
   ],
   "source": [
    "increment_string(s)"
   ]
  },
  {
   "cell_type": "code",
   "execution_count": 8,
   "metadata": {
    "pycharm": {
     "is_executing": false
    }
   },
   "outputs": [
    {
     "name": "stdout",
     "text": [
      "Test = True\nTest = True\nTest = True\nTest = True\nTest = True\nTest = True\nTest = True\nTest = False\nTest = False\nTest = False\nTest = False\n"
     ],
     "output_type": "stream"
    }
   ],
   "source": [
    "assert_equals(increment_string(\"foo\"), \"foo1\")\n",
    "assert_equals(increment_string(\"foobar001\"), \"foobar002\")\n",
    "assert_equals(increment_string(\"foobar1\"), \"foobar2\")\n",
    "assert_equals(increment_string(\"foobar00\"), \"foobar01\")\n",
    "assert_equals(increment_string(\"foobar99\"), \"foobar100\")\n",
    "assert_equals(increment_string(\"foobar099\"), \"foobar100\")\n",
    "assert_equals(increment_string(\"\"), \"1\")\n",
    "assert_equals(increment_string(\"ONkfMl/09hw~w36365345000000008321236190\"), \"ONkfMl/09hw~w ,36365345000000008321236190\")\n",
    "assert_equals(increment_string(\"ch@^@D9#9U{A=30PwN%050902910`^!3G74/+7348Z)B38403304670000005126760\"), \"ch@^@D9#9U{A=30PwN%050902910`^!3G74/+7348Z)B384033046-70000005126760\")\n",
    "assert_equals(increment_string(\"I$P@~J2725000000059931260\"), \"I$P@~J.2725000000059931260\")\n",
    "assert_equals(increment_string(\"262A;m968033IE[@>743301500001\"), \"262A;m968033IE[@>?743301500001\")"
   ]
  },
  {
   "cell_type": "markdown",
   "metadata": {},
   "source": [
    "### Product of consecutive Fib numbers  \n",
    "\n",
    "The Fibonacci numbers are the numbers in the following integer sequence (Fn):\n",
    "\n",
    "`0, 1, 1, 2, 3, 5, 8, 13, 21, 34, 55, 89, 144, 233, ...`  \n",
    "\n",
    "such as\n",
    "\n",
    "`F(n) = F(n-1) + F(n-2) with F(0) = 0 and F(1) = 1. `  \n",
    "\n",
    "Given a number, say prod (for product), we search two Fibonacci numbers F(n) and F(n+1) verifying\n",
    "\n",
    "`F(n) * F(n+1) = prod.`  \n",
    "\n",
    "Your function productFib takes an integer (prod) and returns an array:\n",
    "\n",
    "`[F(n), F(n+1), true] or {F(n), F(n+1), 1} or (F(n), F(n+1), True)`  \n",
    "depending on the language `if F(n) * F(n+1) = prod`  \n",
    "\n",
    "If you don't find two consecutive `F(m)` verifying `F(m) * F(m+1) = prod` you will return\n",
    "\n",
    "`[F(m), F(m+1), false] or {F(n), F(n+1), 0} or (F(n), F(n+1), False)`  \n",
    "`F(m)` being the smallest one such as `F(m) * F(m+1) > prod`\n",
    "\n",
    "##### Examples\n",
    "`productFib(714) # should return [21, 34, true], `  \n",
    "                `# since F(8) = 21, F(9) = 34 and 714 = 21 * 34`  \n",
    "\n",
    "`productFib(800) # should return [34, 55, false],`   \n",
    "                `# since F(8) = 21, F(9) = 34, F(10) = 55 and 21 * 34 < 800 < 34 * 55`  \n",
    "                \n",
    "##### Notes\n",
    "Not useful here but we can tell how to choose the number n up to which to go: we can use the \"golden ratio\" phi which is `(1 + sqrt(5))/2` knowing that `F(n)` is asymptotic to: `phi^n / sqrt(5)`. That gives a possible upper bound to `n`.\n",
    "\n",
    "You can see examples in \"Example test\".\n",
    "\n",
    "References\n",
    "http://en.wikipedia.org/wiki/Fibonacci_number\n",
    "\n",
    "http://oeis.org/A000045"
   ]
  },
  {
   "cell_type": "code",
   "execution_count": 9,
   "metadata": {
    "pycharm": {
     "is_executing": false
    }
   },
   "outputs": [],
   "source": [
    "def productFib(prod):\n",
    "    # your code\n",
    "    pass\n",
    "\n",
    "def prime_numbers_generator(n):\n",
    "    a = range(n + 1)\n",
    "    l = []\n",
    "    i = 2\n",
    "    while i <= n:\n",
    "        if a[i] != 0:\n",
    "            l.append(a[i])\n",
    "            for j in xrange(i, n + 1, i):\n",
    "                a[j] = 0\n",
    "        i += 1\n",
    "    return l\n",
    "\n",
    "\n",
    "def divider(n: int):\n",
    "    \n",
    "    pass\n",
    "\n",
    "\n",
    "def is_fibonacci(a: int, b: int):\n",
    "    pass"
   ]
  },
  {
   "cell_type": "code",
   "execution_count": 10,
   "metadata": {
    "pycharm": {
     "is_executing": false
    }
   },
   "outputs": [
    {
     "traceback": [
      "\u001b[1;31m---------------------------------------------------------------------------\u001b[0m",
      "\u001b[1;31mNameError\u001b[0m                                 Traceback (most recent call last)",
      "\u001b[1;32m<ipython-input-10-cf448e54528d>\u001b[0m in \u001b[0;36m<module>\u001b[1;34m\u001b[0m\n\u001b[1;32m----> 1\u001b[1;33m \u001b[0mprime_numbers_generator\u001b[0m\u001b[1;33m(\u001b[0m\u001b[1;36m52\u001b[0m\u001b[1;33m)\u001b[0m\u001b[1;33m\u001b[0m\u001b[1;33m\u001b[0m\u001b[0m\n\u001b[0m",
      "\u001b[1;32m<ipython-input-9-a6e373abd448>\u001b[0m in \u001b[0;36mprime_numbers_generator\u001b[1;34m(n)\u001b[0m\n\u001b[0;32m     10\u001b[0m         \u001b[1;32mif\u001b[0m \u001b[0ma\u001b[0m\u001b[1;33m[\u001b[0m\u001b[0mi\u001b[0m\u001b[1;33m]\u001b[0m \u001b[1;33m!=\u001b[0m \u001b[1;36m0\u001b[0m\u001b[1;33m:\u001b[0m\u001b[1;33m\u001b[0m\u001b[1;33m\u001b[0m\u001b[0m\n\u001b[0;32m     11\u001b[0m             \u001b[0ml\u001b[0m\u001b[1;33m.\u001b[0m\u001b[0mappend\u001b[0m\u001b[1;33m(\u001b[0m\u001b[0ma\u001b[0m\u001b[1;33m[\u001b[0m\u001b[0mi\u001b[0m\u001b[1;33m]\u001b[0m\u001b[1;33m)\u001b[0m\u001b[1;33m\u001b[0m\u001b[1;33m\u001b[0m\u001b[0m\n\u001b[1;32m---> 12\u001b[1;33m             \u001b[1;32mfor\u001b[0m \u001b[0mj\u001b[0m \u001b[1;32min\u001b[0m \u001b[0mxrange\u001b[0m\u001b[1;33m(\u001b[0m\u001b[0mi\u001b[0m\u001b[1;33m,\u001b[0m \u001b[0mn\u001b[0m \u001b[1;33m+\u001b[0m \u001b[1;36m1\u001b[0m\u001b[1;33m,\u001b[0m \u001b[0mi\u001b[0m\u001b[1;33m)\u001b[0m\u001b[1;33m:\u001b[0m\u001b[1;33m\u001b[0m\u001b[1;33m\u001b[0m\u001b[0m\n\u001b[0m\u001b[0;32m     13\u001b[0m                 \u001b[0ma\u001b[0m\u001b[1;33m[\u001b[0m\u001b[0mj\u001b[0m\u001b[1;33m]\u001b[0m \u001b[1;33m=\u001b[0m \u001b[1;36m0\u001b[0m\u001b[1;33m\u001b[0m\u001b[1;33m\u001b[0m\u001b[0m\n\u001b[0;32m     14\u001b[0m         \u001b[0mi\u001b[0m \u001b[1;33m+=\u001b[0m \u001b[1;36m1\u001b[0m\u001b[1;33m\u001b[0m\u001b[1;33m\u001b[0m\u001b[0m\n",
      "\u001b[1;31mNameError\u001b[0m: name 'xrange' is not defined"
     ],
     "ename": "NameError",
     "evalue": "name 'xrange' is not defined",
     "output_type": "error"
    }
   ],
   "source": [
    "prime_numbers_generator(52)"
   ]
  }
 ],
 "metadata": {
  "kernelspec": {
   "display_name": "Python 3",
   "language": "python",
   "name": "python3"
  },
  "language_info": {
   "codemirror_mode": {
    "name": "ipython",
    "version": 3
   },
   "file_extension": ".py",
   "mimetype": "text/x-python",
   "name": "python",
   "nbconvert_exporter": "python",
   "pygments_lexer": "ipython3",
   "version": "3.7.4"
  }
 },
 "nbformat": 4,
 "nbformat_minor": 2
}