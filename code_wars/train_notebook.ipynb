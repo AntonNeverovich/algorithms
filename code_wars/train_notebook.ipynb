{
 "cells": [
  {
   "cell_type": "markdown",
   "metadata": {},
   "source": [
    "# CODE WARS"
   ]
  },
  {
   "cell_type": "markdown",
   "metadata": {},
   "source": [
    "### Count Sheeps"
   ]
  },
  {
   "cell_type": "code",
   "execution_count": 1,
   "metadata": {
    "pycharm": {
     "is_executing": false
    }
   },
   "outputs": [],
   "source": [
    "def count_sheeps(arrayOfSheeps):\n",
    "    count = 0\n",
    "    for sheep in arrayOfSheeps:\n",
    "        if sheep:\n",
    "            count += 1\n",
    "    return count"
   ]
  },
  {
   "cell_type": "code",
   "execution_count": 2,
   "metadata": {
    "pycharm": {
     "is_executing": false
    }
   },
   "outputs": [
    {
     "data": {
      "text/plain": [
       "17"
      ]
     },
     "execution_count": 2,
     "metadata": {},
     "output_type": "execute_result"
    }
   ],
   "source": [
    "array1 = [True,  True,  True,  False, \n",
    "          True,  True,  True,  True , \n",
    "          True,  False, True,  False, \n",
    "          True,  False, False, True , \n",
    "          True,  True,  True,  True ,\n",
    "          False, False, True,  True ]\n",
    "count_sheeps(array1)"
   ]
  },
  {
   "cell_type": "markdown",
   "metadata": {},
   "source": [
    "### Strip Comments"
   ]
  },
  {
   "cell_type": "code",
   "execution_count": 3,
   "metadata": {
    "pycharm": {
     "is_executing": false
    }
   },
   "outputs": [],
   "source": [
    "def solution(string,markers):\n",
    "    lines = string.splitlines()\n",
    "    for i in range(len(lines)):\n",
    "        for marker in markers:\n",
    "            if index_of(marker, lines[i]) >= 0:\n",
    "                lines[i] = lines[i][0: index_of(marker, lines[i])].rstrip()\n",
    "    return '\\n'.join(lines)\n",
    "\n",
    "\n",
    "def index_of(symbol, string):\n",
    "    for i in range(len(string)):\n",
    "        if string[i] == symbol:\n",
    "            return i\n",
    "    else:\n",
    "        return -1"
   ]
  },
  {
   "cell_type": "markdown",
   "metadata": {},
   "source": [
    "### Sudoku Solution Validator"
   ]
  },
  {
   "cell_type": "code",
   "execution_count": 4,
   "metadata": {
    "pycharm": {
     "is_executing": false
    }
   },
   "outputs": [],
   "source": [
    "def is_unique(l: list):\n",
    "    s = set(l)\n",
    "    return len(l) == len(s)\n",
    "\n",
    "def is_sum45(l: list):\n",
    "    return sum(l) == 45\n",
    "\n",
    "def get_column(board: list, index: int):\n",
    "    column = []\n",
    "    for row in board:\n",
    "        column.append(row[index])\n",
    "    return column\n",
    "\n",
    "def get_subgrid(board: list, x: int, y: int):\n",
    "    subgrid = []\n",
    "    for i in range(x, x + 3):\n",
    "        for j in range(y, y + 3):\n",
    "            subgrid.append(board[i][j])\n",
    "    return subgrid\n",
    "\n",
    "def to_columns(board: list):\n",
    "    result = []\n",
    "    for i in range(0, 9):\n",
    "        result.append(get_column(board, i))\n",
    "    return result\n",
    "\n",
    "def to_subgrids(board: list):\n",
    "    result = []\n",
    "    for i in range(0, 9, 3):\n",
    "        for j in range(0, 9, 3):\n",
    "            result.append(get_subgrid(board, i, j))\n",
    "    return result\n",
    "\n",
    "def validator(board: list):\n",
    "    for row in board:\n",
    "        if not (is_sum45(row) and is_unique(row)):\n",
    "            return False\n",
    "    else:\n",
    "        return True\n"
   ]
  },
  {
   "cell_type": "code",
   "execution_count": 5,
   "metadata": {
    "pycharm": {
     "is_executing": false
    }
   },
   "outputs": [],
   "source": [
    "def validSolution(board):\n",
    "    first_check = validator(board)\n",
    "    second_check = validator(to_columns(board))\n",
    "    third_check = validator(to_subgrids(board))\n",
    "    return first_check and second_check and third_check\n",
    "    "
   ]
  },
  {
   "cell_type": "markdown",
   "metadata": {},
   "source": [
    "### Strip Comments\n"
   ]
  },
  {
   "cell_type": "code",
   "execution_count": 6,
   "metadata": {},
   "outputs": [],
   "source": [
    "def solution(string,markers):\n",
    "    lines = string.splitlines()\n",
    "    for i in range(len(lines)):\n",
    "        for marker in markers:\n",
    "            if index_of(marker, lines[i]) >= 0:\n",
    "                lines[i] = lines[i][0: index_of(marker, lines[i])].rstrip()\n",
    "    return '\\n'.join(lines)\n",
    "\n",
    "\n",
    "def index_of(symbol, string):\n",
    "    for i in range(len(string)):\n",
    "        if string[i] == symbol:\n",
    "            return i\n",
    "    else:\n",
    "        return -1"
   ]
  }
 ],
 "metadata": {
  "kernelspec": {
   "display_name": "Python 3",
   "language": "python",
   "name": "python3"
  },
  "language_info": {
   "codemirror_mode": {
    "name": "ipython",
    "version": 3
   },
   "file_extension": ".py",
   "mimetype": "text/x-python",
   "name": "python",
   "nbconvert_exporter": "python",
   "pygments_lexer": "ipython3",
   "version": "3.7.4"
  }
 },
 "nbformat": 4,
 "nbformat_minor": 2
}
